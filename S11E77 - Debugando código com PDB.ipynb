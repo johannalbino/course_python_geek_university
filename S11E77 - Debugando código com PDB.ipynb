{
 "cells": [
  {
   "cell_type": "markdown",
   "metadata": {},
   "source": [
    "# PDB - Python Debugger\n",
    "\n",
    "Bug - Inseto\n",
    "\n",
    "Exemplo:"
   ]
  },
  {
   "cell_type": "markdown",
   "metadata": {},
   "source": [
    "**OBS** A utilização do print() para debugar código é uma prática ruim."
   ]
  },
  {
   "cell_type": "code",
   "execution_count": 8,
   "metadata": {},
   "outputs": [
    {
     "name": "stdout",
     "output_type": "stream",
     "text": [
      "a=4, b=7\n",
      "0.57\n"
     ]
    }
   ],
   "source": [
    "def dividir(a, b):\n",
    "    print(f'a={a}, b={b}')\n",
    "    try:\n",
    "        return int(a)/int(b)\n",
    "    except (ValueError, ZeroDivisionError) as err:\n",
    "        return  f'Ocorreu um problema: {err}'\n",
    "    \n",
    "print(round(dividir(4, 7), 2))"
   ]
  },
  {
   "cell_type": "markdown",
   "metadata": {},
   "source": [
    "A forma profissional de se fazer esse debug é utilizar o debugger\n",
    "\n",
    "Em python podemos fazer isso em diferentes IDEs, como o PyCharm ou utilizando o PDB\n",
    "* No PyCharm existe já uma forma de debugar utilizando break points e watches nativos da IDE\n",
    "\n",
    "Para utilizar o PDB precisamos importar a biblioteca pdb e então utilizar a função set_trace()\n",
    "\n",
    "Comandos básicos:\n",
    "* l - listar onde estamos no código\n",
    "* n - proxima linha\n",
    "* p - imprime váriavel\n",
    "* c - continua a execução"
   ]
  },
  {
   "cell_type": "code",
   "execution_count": 4,
   "metadata": {},
   "outputs": [
    {
     "name": "stdout",
     "output_type": "stream",
     "text": [
      "--Return--\n",
      "> <ipython-input-4-93ba09ff7375>(3)<module>()->None\n",
      "-> import pdb; pdb.set_trace()\n"
     ]
    },
    {
     "name": "stdin",
     "output_type": "stream",
     "text": [
      "(Pdb)  c\n"
     ]
    },
    {
     "name": "stdout",
     "output_type": "stream",
     "text": [
      "Angelina Jolie faz o curso de Programação em Python: Essencial\n"
     ]
    }
   ],
   "source": [
    "nome = 'Angelina'\n",
    "sobrenome = 'Jolie'\n",
    "import pdb; pdb.set_trace()\n",
    "nome_completo = nome + ' ' + sobrenome\n",
    "curso = 'Programação em Python: Essencial'\n",
    "final = nome_completo + ' faz o curso de ' + curso\n",
    "print(final)"
   ]
  },
  {
   "cell_type": "markdown",
   "metadata": {},
   "source": [
    "**OBS** Deve lembrar de remover os set_trace(), pois senão vai trazer problema quando for para produção. Por isso é importado e setado na mesma linha.\n",
    "\n",
    "* No Python 3.7 e posterior o pdb já está built-in com a palavra reservada breakpoint()"
   ]
  },
  {
   "cell_type": "code",
   "execution_count": 6,
   "metadata": {},
   "outputs": [
    {
     "name": "stdout",
     "output_type": "stream",
     "text": [
      "--Return--\n",
      "> <ipython-input-6-2cc11a012ef2>(3)<module>()->None\n",
      "-> breakpoint()\n"
     ]
    },
    {
     "name": "stdin",
     "output_type": "stream",
     "text": [
      "(Pdb)  c\n"
     ]
    },
    {
     "name": "stdout",
     "output_type": "stream",
     "text": [
      "Angelina Jolie faz o curso de Programação em Python: Essencial\n"
     ]
    }
   ],
   "source": [
    "nome = 'Angelina'\n",
    "sobrenome = 'Jolie'\n",
    "breakpoint()\n",
    "nome_completo = nome + ' ' + sobrenome\n",
    "curso = 'Programação em Python: Essencial'\n",
    "final = nome_completo + ' faz o curso de ' + curso\n",
    "print(final)"
   ]
  },
  {
   "cell_type": "markdown",
   "metadata": {},
   "source": [
    "**OBS** Cuidado com conflitos entre nomes de variáveis e os comandos do pdb/breakpoint"
   ]
  }
 ],
 "metadata": {
  "kernelspec": {
   "display_name": "Python 3",
   "language": "python",
   "name": "python3"
  },
  "language_info": {
   "codemirror_mode": {
    "name": "ipython",
    "version": 3
   },
   "file_extension": ".py",
   "mimetype": "text/x-python",
   "name": "python",
   "nbconvert_exporter": "python",
   "pygments_lexer": "ipython3",
   "version": "3.7.4"
  }
 },
 "nbformat": 4,
 "nbformat_minor": 4
}
