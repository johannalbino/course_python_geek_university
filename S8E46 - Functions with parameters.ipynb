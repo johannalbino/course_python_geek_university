{
 "cells": [
  {
   "cell_type": "markdown",
   "metadata": {},
   "source": [
    "# Funções com parâmetros\n",
    "\n",
    "* Funções que recebem dados para serem processados dentro da mesma;\n",
    "\n",
    "entrada -> processamento -> saida\n",
    "\n",
    "Exemplo 1:"
   ]
  },
  {
   "cell_type": "code",
   "execution_count": 5,
   "metadata": {},
   "outputs": [
    {
     "name": "stdout",
     "output_type": "stream",
     "text": [
      "1\n",
      "4\n",
      "49\n",
      "64\n"
     ]
    }
   ],
   "source": [
    "def quadrado(numero):\n",
    "    return numero ** 2\n",
    "\n",
    "print (quadrado(1))\n",
    "print (quadrado(2))\n",
    "print (quadrado(7))\n",
    "\n",
    "ret = quadrado(8)\n",
    "\n",
    "print (ret)"
   ]
  },
  {
   "cell_type": "code",
   "execution_count": 9,
   "metadata": {},
   "outputs": [
    {
     "name": "stdout",
     "output_type": "stream",
     "text": [
      "Parabens para você\n",
      "Nesta data querida\n",
      "Muitas felicidades\n",
      "Muitos ano de vida!\n",
      "Viva o/a Johann\n"
     ]
    }
   ],
   "source": [
    "def cantar_parabens(aniversariante):\n",
    "    print('Parabens para você')\n",
    "    print('Nesta data querida')\n",
    "    print('Muitas felicidades')\n",
    "    print('Muitos ano de vida!')\n",
    "    print(f'Viva o/a {aniversariante}')\n",
    "    \n",
    "cantar_parabens('Johann')"
   ]
  },
  {
   "cell_type": "markdown",
   "metadata": {},
   "source": [
    "**OBS**\n",
    "* Funções podem ter n parâmetros de entrada, ou seja, podemos receber como entrada em uma função quantos parâmetros forem necessários. Eles separados por vírgula\n",
    "\n",
    "Exemplo:"
   ]
  },
  {
   "cell_type": "code",
   "execution_count": 13,
   "metadata": {},
   "outputs": [
    {
     "name": "stdout",
     "output_type": "stream",
     "text": [
      "7\n",
      "40\n",
      "Geek Geek Geek Geek Geek \n"
     ]
    }
   ],
   "source": [
    "def soma(a, b):\n",
    "    return a + b;\n",
    "\n",
    "def multiplica(num1, num2):\n",
    "    return num1 * num2\n",
    "\n",
    "def outra(num1, b, msg):\n",
    "    return (num1 + b) * msg\n",
    "\n",
    "print(soma(2, 5))\n",
    "\n",
    "print(multiplica(5, 8))\n",
    "\n",
    "print(outra(3, 2, 'Geek '))"
   ]
  },
  {
   "cell_type": "markdown",
   "metadata": {},
   "source": [
    "# Parâmetros x Argumentos\n",
    "\n",
    "* Parâmetros são variáveis declaradas na definição de uma função;\n",
    "* Argumentos são dados passados durante a execução de uma função.\n",
    "\n",
    "**A ordem dos parâmetros/Argumentos importa!**\n",
    "\n",
    "Exemplo de função passando parâmetros:"
   ]
  },
  {
   "cell_type": "code",
   "execution_count": 20,
   "metadata": {},
   "outputs": [
    {
     "name": "stdout",
     "output_type": "stream",
     "text": [
      "Seu nome é: Johann Herbert\n"
     ]
    }
   ],
   "source": [
    "def diz_nome(nome, sobrenome):\n",
    "    print(f'Seu nome é: {nome} {sobrenome}')\n",
    "    \n",
    "nome = 'Johann' #parametro\n",
    "sobrenome = 'Herbert'\n",
    "\n",
    "diz_nome(nome, sobrenome)"
   ]
  },
  {
   "cell_type": "markdown",
   "metadata": {},
   "source": [
    "Exemplo de função passando argunmentos:"
   ]
  },
  {
   "cell_type": "code",
   "execution_count": 21,
   "metadata": {},
   "outputs": [
    {
     "name": "stdout",
     "output_type": "stream",
     "text": [
      "Seu nome é: Johann Herbert\n"
     ]
    }
   ],
   "source": [
    "def diz_nome(nome, sobrenome):\n",
    "    print(f'Seu nome é: {nome} {sobrenome}')\n",
    "    \n",
    "diz_nome('Johann', 'Herbert')"
   ]
  },
  {
   "cell_type": "markdown",
   "metadata": {},
   "source": [
    "Caso utilizamos nomes dos parâmetros nos argumentos para informá-los, podemos utilizar em qualquer ordem!\n",
    "\n",
    "Exemplo:"
   ]
  },
  {
   "cell_type": "code",
   "execution_count": 24,
   "metadata": {},
   "outputs": [
    {
     "name": "stdout",
     "output_type": "stream",
     "text": [
      "Seu nome é: Johann Albino\n",
      "Seu nome é: Johann Albino\n"
     ]
    }
   ],
   "source": [
    "def diz_nome(nome, sobrenome):\n",
    "    print(f'Seu nome é: {nome} {sobrenome}')\n",
    "\n",
    "diz_nome(sobrenome='Albino', nome='Johann')\n",
    "diz_nome(nome='Johann', sobrenome='Albino')"
   ]
  }
 ],
 "metadata": {
  "kernelspec": {
   "display_name": "Python 3",
   "language": "python",
   "name": "python3"
  },
  "language_info": {
   "codemirror_mode": {
    "name": "ipython",
    "version": 3
   },
   "file_extension": ".py",
   "mimetype": "text/x-python",
   "name": "python",
   "nbconvert_exporter": "python",
   "pygments_lexer": "ipython3",
   "version": "3.7.4"
  }
 },
 "nbformat": 4,
 "nbformat_minor": 2
}
