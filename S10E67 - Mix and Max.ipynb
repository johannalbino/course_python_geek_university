{
 "cells": [
  {
   "cell_type": "markdown",
   "metadata": {},
   "source": [
    "# Min() and Max()"
   ]
  },
  {
   "cell_type": "markdown",
   "metadata": {},
   "source": [
    "# MAX()\n",
    "max() -> Retorna o maior valor em um iterável ou o maior de dois ou mais elementos.\n",
    "\n",
    "Exemplos:"
   ]
  },
  {
   "cell_type": "code",
   "execution_count": 1,
   "metadata": {},
   "outputs": [
    {
     "name": "stdout",
     "output_type": "stream",
     "text": [
      "129\n"
     ]
    }
   ],
   "source": [
    "lista = [1, 8, 4, 99, 34, 129]\n",
    "print(max(lista))"
   ]
  },
  {
   "cell_type": "code",
   "execution_count": 2,
   "metadata": {},
   "outputs": [
    {
     "name": "stdout",
     "output_type": "stream",
     "text": [
      "129\n"
     ]
    }
   ],
   "source": [
    "conjunto = {1, 8, 4, 99, 34, 129}\n",
    "print(max(conjunto))"
   ]
  },
  {
   "cell_type": "code",
   "execution_count": 4,
   "metadata": {},
   "outputs": [
    {
     "name": "stdout",
     "output_type": "stream",
     "text": [
      "f\n",
      "129\n"
     ]
    }
   ],
   "source": [
    "dicionario = {'a': 1, 'b': 8, 'c': 4, 'd': 99, 'e': 34, 'f': 129}\n",
    "print(max(dicionario))\n",
    "print(max(dicionario.values()))"
   ]
  },
  {
   "cell_type": "code",
   "execution_count": 5,
   "metadata": {},
   "outputs": [
    {
     "name": "stdout",
     "output_type": "stream",
     "text": [
      "67\n",
      "abc\n",
      "g\n",
      "5.789\n",
      "y\n"
     ]
    }
   ],
   "source": [
    "print(max(4, 67, 54))\n",
    "print(max('a', 'ab', 'abc'))\n",
    "print(max('a', 'b', 'c', 'g'))\n",
    "print(max(3.145, 5.789))\n",
    "print(max('Geek University'))"
   ]
  },
  {
   "cell_type": "markdown",
   "metadata": {},
   "source": [
    "# MIN()\n",
    "min() -> Retorna o menor valor em um iterável ou o menor valor de dois ou mais elementos\n",
    "\n",
    "Exemplos:"
   ]
  },
  {
   "cell_type": "code",
   "execution_count": 6,
   "metadata": {},
   "outputs": [
    {
     "name": "stdout",
     "output_type": "stream",
     "text": [
      "1\n"
     ]
    }
   ],
   "source": [
    "lista = [1, 8, 4, 99, 34, 129]\n",
    "print(min(lista))"
   ]
  },
  {
   "cell_type": "code",
   "execution_count": 7,
   "metadata": {},
   "outputs": [
    {
     "name": "stdout",
     "output_type": "stream",
     "text": [
      "1\n"
     ]
    }
   ],
   "source": [
    "conjunto = {1, 8, 4, 99, 34, 129}\n",
    "print(min(conjunto))"
   ]
  },
  {
   "cell_type": "code",
   "execution_count": 8,
   "metadata": {},
   "outputs": [
    {
     "name": "stdout",
     "output_type": "stream",
     "text": [
      "a\n",
      "1\n"
     ]
    }
   ],
   "source": [
    "dicionario = {'a': 1, 'b': 8, 'c': 4, 'd': 99, 'e': 34, 'f': 129}\n",
    "print(min(dicionario))\n",
    "print(min(dicionario.values()))"
   ]
  },
  {
   "cell_type": "code",
   "execution_count": 9,
   "metadata": {},
   "outputs": [
    {
     "name": "stdout",
     "output_type": "stream",
     "text": [
      "4\n",
      "a\n",
      "a\n",
      "3.145\n",
      " \n"
     ]
    }
   ],
   "source": [
    "print(min(4, 67, 54))\n",
    "print(min('a', 'ab', 'abc'))\n",
    "print(min('a', 'b', 'c', 'g'))\n",
    "print(min(3.145, 5.789))\n",
    "print(min('Geek University'))"
   ]
  },
  {
   "cell_type": "markdown",
   "metadata": {},
   "source": [
    "Outros Exemplos:"
   ]
  },
  {
   "cell_type": "code",
   "execution_count": 11,
   "metadata": {},
   "outputs": [
    {
     "name": "stdout",
     "output_type": "stream",
     "text": [
      "Tim\n",
      "Arya\n",
      "Ollivander\n",
      "Tim\n"
     ]
    }
   ],
   "source": [
    "nomes = ['Arya', 'Samson', 'Dora', 'Tim', 'Ollivander']\n",
    "\n",
    "print(max(nomes))\n",
    "print(min(nomes))\n",
    "\n",
    "print(max(nomes, key= lambda nome: len(nome))) #Ollivander\n",
    "print(min(nomes, key= lambda nome: len(nome))) #Tim"
   ]
  },
  {
   "cell_type": "code",
   "execution_count": 1,
   "metadata": {},
   "outputs": [
    {
     "name": "stdout",
     "output_type": "stream",
     "text": [
      "{'titulo': \"Too old to rock'in'roll\", 'tocou': 32}\n",
      "{'titulo': 'Dead Skin Mask', 'tocou': 2}\n",
      "Too old to rock'in'roll\n",
      "Dead Skin Mask\n",
      "Too old to rock'in'roll\n"
     ]
    }
   ],
   "source": [
    "musicas = [\n",
    "    {\"titulo\": \"Thunderstruck\", \"tocou\": 3},\n",
    "    {\"titulo\": \"Dead Skin Mask\", \"tocou\": 2},\n",
    "    {\"titulo\": \"Back in Black\", \"tocou\": 4},\n",
    "    {\"titulo\": \"Too old to rock'in'roll\", \"tocou\": 32}\n",
    "]\n",
    "\n",
    "print(max(musicas, key= lambda mus: mus[\"tocou\"]))\n",
    "print(min(musicas, key= lambda mus: mus[\"tocou\"]))\n",
    "\n",
    "print(max(musicas, key= lambda mus: mus[\"tocou\"])[\"titulo\"]) #identificando a musica mais tocada com max e lambda\n",
    "print(min(musicas, key= lambda mus: mus[\"tocou\"])[\"titulo\"]) #identificando a musica menos tocada com max e lambda\n",
    "\n",
    "#Sem utilizar o max(), min() e lambda identificar a musica mais tocada\n",
    "max = 0\n",
    "for i in musicas:\n",
    "    if i[\"tocou\"] > max:\n",
    "        max = i[\"tocou\"]\n",
    "        \n",
    "for i in musicas:\n",
    "    if i[\"tocou\"] == max:\n",
    "        print(i[\"titulo\"])"
   ]
  }
 ],
 "metadata": {
  "kernelspec": {
   "display_name": "Python 3",
   "language": "python",
   "name": "python3"
  },
  "language_info": {
   "codemirror_mode": {
    "name": "ipython",
    "version": 3
   },
   "file_extension": ".py",
   "mimetype": "text/x-python",
   "name": "python",
   "nbconvert_exporter": "python",
   "pygments_lexer": "ipython3",
   "version": "3.7.4"
  }
 },
 "nbformat": 4,
 "nbformat_minor": 4
}
