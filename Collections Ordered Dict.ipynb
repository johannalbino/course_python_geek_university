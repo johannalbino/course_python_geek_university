{
 "cells": [
  {
   "cell_type": "markdown",
   "metadata": {},
   "source": [
    "# Collections Ordered Dict\n",
    "\n",
    "Em um dicionário, a ordem de inserção dos elementos não é garantida.\n",
    "\n",
    "Recap dict:\n",
    "dicionario = {'a': 1, 'b': 2, 'c': 3, 'd': 4, 'e': 5}\n",
    "\n",
    "for chave, valor in dicionario.items():\n",
    "\n",
    "print(f'chave={chave}, valor={chave}')\n",
    "\n",
    "####OrderedDict\n",
    "É um dicionário que nos garante a ordem de inserção dos elementos\n",
    "\n",
    "O dicionário comum não importa a ordem dos elementos\n",
    "O dicionário OrderedDict importa a ordem dos elementos\n"
   ]
  },
  {
   "cell_type": "code",
   "execution_count": 3,
   "metadata": {},
   "outputs": [
    {
     "name": "stdout",
     "output_type": "stream",
     "text": [
      "chave=e, valor=5\n",
      "chave=d, valor=4\n",
      "chave=c, valor=3\n",
      "chave=b, valor=2\n",
      "chave=a, valor=1\n"
     ]
    }
   ],
   "source": [
    "from collections import OrderedDict\n",
    "\n",
    "dicionario = OrderedDict({'e': 5, 'd': 4, 'c': 3, 'b': 2, 'a':1})\n",
    "\n",
    "for chave, valor in dicionario.items():\n",
    "    print(f'chave={chave}, valor={valor}')"
   ]
  }
 ],
 "metadata": {
  "kernelspec": {
   "display_name": "Python 3",
   "language": "python",
   "name": "python3"
  },
  "language_info": {
   "codemirror_mode": {
    "name": "ipython",
    "version": 3
   },
   "file_extension": ".py",
   "mimetype": "text/x-python",
   "name": "python",
   "nbconvert_exporter": "python",
   "pygments_lexer": "ipython3",
   "version": "3.7.4"
  }
 },
 "nbformat": 4,
 "nbformat_minor": 2
}
