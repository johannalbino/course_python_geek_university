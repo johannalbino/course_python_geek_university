{
 "cells": [
  {
   "cell_type": "markdown",
   "metadata": {},
   "source": [
    "1 - Crie uma função que recebe como parâmetro um número inteiro e devolve o seu dobro."
   ]
  },
  {
   "cell_type": "code",
   "execution_count": 1,
   "metadata": {},
   "outputs": [
    {
     "name": "stdout",
     "output_type": "stream",
     "text": [
      "4\n"
     ]
    }
   ],
   "source": [
    "def dobro(num1):\n",
    "    return num1 * 2\n",
    "\n",
    "print(dobro(2))"
   ]
  },
  {
   "cell_type": "markdown",
   "metadata": {},
   "source": [
    "2 - Faça uma função que receba a data atual (dia, mês e ano em inteiro) e exiba-a na tela no formato textual por extenso. **Exemplo**: Data: 01/01/2000, Imprimir: 1 de Janeiro de 2000."
   ]
  },
  {
   "cell_type": "code",
   "execution_count": 9,
   "metadata": {},
   "outputs": [
    {
     "name": "stdout",
     "output_type": "stream",
     "text": [
      "27 de Agosto de 2019\n",
      "27 de Agosto de 2019\n"
     ]
    }
   ],
   "source": [
    "#Recebendo uma string \n",
    "def data_por_extenso(data_atual):\n",
    "    data = data_atual.split('/')\n",
    "    if data[1] == '01':\n",
    "        return (f\"{data[0]} de Janeiro de {data[2]}\")\n",
    "    elif data[1] == '02':\n",
    "        return (f\"{data[0]} de Fevereiro de {data[2]}\")\n",
    "    elif data[1] == '03':\n",
    "        return (f\"{data[0]} de Março de {data[2]}\")\n",
    "    elif data[1] == '04':\n",
    "        return (f\"{data[0]} de Abril de {data[2]}\")\n",
    "    elif data[1] == '05':\n",
    "        return (f\"{data[0]} de Maio de {data[2]}\")\n",
    "    elif data[1] == '06':\n",
    "        return (f\"{data[0]} de Junho de {data[2]}\")\n",
    "    elif data[1] == '07':\n",
    "        return (f\"{data[0]} de Julho de {data[2]}\")\n",
    "    elif data[1] == '08':\n",
    "        return (f\"{data[0]} de Agosto de {data[2]}\")\n",
    "    elif data[1] == '09':\n",
    "        return (f\"{data[0]} de Setembro de {data[2]}\")\n",
    "    elif data[1] == '10':\n",
    "        return (f\"{data[0]} de Outubro de {data[2]}\")\n",
    "    elif data[1] == '11':\n",
    "        return (f\"{data[0]} de Novembro de {data[2]}\")\n",
    "    elif data[1] == '12':\n",
    "        return (f\"{data[0]} de Dezembro de {data[2]}\")\n",
    "\n",
    "#recebendo um int\n",
    "def data_por_extenso_com_int(dia, mes, ano):\n",
    "    if mes == 1:\n",
    "        return (f\"{dia} de Janeiro de {ano}\")\n",
    "    elif mes == 2:\n",
    "        return (f\"{dia} de Fevereiro de {ano}\")\n",
    "    elif mes == 3:\n",
    "        return (f\"{dia} de Março de {ano}\")\n",
    "    elif mes == 4:\n",
    "        return (f\"{dia} de Abril de {ano}\")\n",
    "    elif mes == 5:\n",
    "        return (f\"{dia} de Maio de {ano}\")\n",
    "    elif mes == 6:\n",
    "        return (f\"{dia} de Junho de {ano}\")\n",
    "    elif mes == 7:\n",
    "        return (f\"{dia} de Julho de {ano}\")\n",
    "    elif mes == 8:\n",
    "        return (f\"{dia} de Agosto de {ano}\")\n",
    "    elif mes == 9:\n",
    "        return (f\"{dia} de Setembro de {ano}\")\n",
    "    elif mes == 10:\n",
    "        return (f\"{dia} de Outubro de {ano}\")\n",
    "    elif mes == 11:\n",
    "        return (f\"{dia} de Novembro de {ano}\")\n",
    "    elif mes == 12:\n",
    "        return (f\"{dia} de Dezembro de {ano}\")\n",
    "    \n",
    "print(data_por_extenso('27/08/2019'))\n",
    "    \n",
    "print(data_por_extenso_com_int(27, 8, 2019))\n",
    "        "
   ]
  },
  {
   "cell_type": "markdown",
   "metadata": {},
   "source": [
    "3 - Faça uma função para verificar se um número é positivo ou negativo. Sendo que o valor de retorno será 1 se positivo, -1 se negativo e 0 se for igual a 0:"
   ]
  },
  {
   "cell_type": "code",
   "execution_count": 18,
   "metadata": {},
   "outputs": [
    {
     "name": "stdout",
     "output_type": "stream",
     "text": [
      "1\n",
      "0\n",
      "-1\n"
     ]
    }
   ],
   "source": [
    "def verifica_numero(num1):\n",
    "    if num1 > 0:\n",
    "        return 1\n",
    "    elif num1 == 0:\n",
    "        return 0\n",
    "    elif num1 < 0:\n",
    "        return -1\n",
    "    \n",
    "print (verifica_numero(5))\n",
    "print (verifica_numero(0))\n",
    "print (verifica_numero(-5))\n"
   ]
  },
  {
   "cell_type": "markdown",
   "metadata": {},
   "source": [
    "4 - Faça uma função para verificar se um número é um quadrado perfeito. Um quadrado perfeito é um número inteiro não negativo que pode ser expresso como o quadrado de outro número. Ex: 1, 4, 9"
   ]
  },
  {
   "cell_type": "code",
   "execution_count": 19,
   "metadata": {},
   "outputs": [
    {
     "name": "stdout",
     "output_type": "stream",
     "text": [
      "O número 9 é um quadrado perfeito !\n",
      "Este número não é um quadrado perfeito!\n",
      "Este número não é um quadrado perfeito!\n",
      "O número 49 é um quadrado perfeito !\n"
     ]
    }
   ],
   "source": [
    "def quadrado_perfeito(num1):\n",
    "    radiacao = num1 ** (1/2)    \n",
    "    if radiacao ** 2 == num1:\n",
    "        return (f'O número {num1} é um quadrado perfeito !')\n",
    "    return ('Este número não é um quadrado perfeito!')\n",
    "\n",
    "print (quadrado_perfeito(9))\n",
    "print (quadrado_perfeito(7))\n",
    "print (quadrado_perfeito(12))\n",
    "print (quadrado_perfeito(49))"
   ]
  },
  {
   "cell_type": "markdown",
   "metadata": {},
   "source": [
    "5 - Faça uma função e um programa de teste para o cálculo do volume de uma esfera. Sendo que o raio é passado por parâmetro.\n",
    "V = 4/3 * pi * R**3"
   ]
  },
  {
   "cell_type": "code",
   "execution_count": null,
   "metadata": {},
   "outputs": [],
   "source": []
  }
 ],
 "metadata": {
  "kernelspec": {
   "display_name": "Python 3",
   "language": "python",
   "name": "python3"
  },
  "language_info": {
   "codemirror_mode": {
    "name": "ipython",
    "version": 3
   },
   "file_extension": ".py",
   "mimetype": "text/x-python",
   "name": "python",
   "nbconvert_exporter": "python",
   "pygments_lexer": "ipython3",
   "version": "3.7.4"
  }
 },
 "nbformat": 4,
 "nbformat_minor": 4
}
