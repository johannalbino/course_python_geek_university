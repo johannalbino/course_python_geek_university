{
 "cells": [
  {
   "cell_type": "markdown",
   "metadata": {},
   "source": [
    "1 - Crie uma função que recebe como parâmetro um número inteiro e devolve o seu dobro."
   ]
  },
  {
   "cell_type": "code",
   "execution_count": 1,
   "metadata": {},
   "outputs": [
    {
     "name": "stdout",
     "output_type": "stream",
     "text": [
      "4\n"
     ]
    }
   ],
   "source": [
    "def dobro(num1):\n",
    "    return num1 * 2\n",
    "\n",
    "print(dobro(2))"
   ]
  },
  {
   "cell_type": "markdown",
   "metadata": {},
   "source": [
    "2 - Faça uma função que receba a data atual (dia, mês e ano em inteiro) e exiba-a na tela no formato textual por extenso. **Exemplo**: Data: 01/01/2000, Imprimir: 1 de Janeiro de 2000."
   ]
  },
  {
   "cell_type": "code",
   "execution_count": 9,
   "metadata": {},
   "outputs": [
    {
     "name": "stdout",
     "output_type": "stream",
     "text": [
      "27 de Agosto de 2019\n",
      "27 de Agosto de 2019\n"
     ]
    }
   ],
   "source": [
    "#Recebendo uma string \n",
    "def data_por_extenso(data_atual):\n",
    "    data = data_atual.split('/')\n",
    "    if data[1] == '01':\n",
    "        return (f\"{data[0]} de Janeiro de {data[2]}\")\n",
    "    elif data[1] == '02':\n",
    "        return (f\"{data[0]} de Fevereiro de {data[2]}\")\n",
    "    elif data[1] == '03':\n",
    "        return (f\"{data[0]} de Março de {data[2]}\")\n",
    "    elif data[1] == '04':\n",
    "        return (f\"{data[0]} de Abril de {data[2]}\")\n",
    "    elif data[1] == '05':\n",
    "        return (f\"{data[0]} de Maio de {data[2]}\")\n",
    "    elif data[1] == '06':\n",
    "        return (f\"{data[0]} de Junho de {data[2]}\")\n",
    "    elif data[1] == '07':\n",
    "        return (f\"{data[0]} de Julho de {data[2]}\")\n",
    "    elif data[1] == '08':\n",
    "        return (f\"{data[0]} de Agosto de {data[2]}\")\n",
    "    elif data[1] == '09':\n",
    "        return (f\"{data[0]} de Setembro de {data[2]}\")\n",
    "    elif data[1] == '10':\n",
    "        return (f\"{data[0]} de Outubro de {data[2]}\")\n",
    "    elif data[1] == '11':\n",
    "        return (f\"{data[0]} de Novembro de {data[2]}\")\n",
    "    elif data[1] == '12':\n",
    "        return (f\"{data[0]} de Dezembro de {data[2]}\")\n",
    "\n",
    "#recebendo um int\n",
    "def data_por_extenso_com_int(dia, mes, ano):\n",
    "    if mes == 1:\n",
    "        return (f\"{dia} de Janeiro de {ano}\")\n",
    "    elif mes == 2:\n",
    "        return (f\"{dia} de Fevereiro de {ano}\")\n",
    "    elif mes == 3:\n",
    "        return (f\"{dia} de Março de {ano}\")\n",
    "    elif mes == 4:\n",
    "        return (f\"{dia} de Abril de {ano}\")\n",
    "    elif mes == 5:\n",
    "        return (f\"{dia} de Maio de {ano}\")\n",
    "    elif mes == 6:\n",
    "        return (f\"{dia} de Junho de {ano}\")\n",
    "    elif mes == 7:\n",
    "        return (f\"{dia} de Julho de {ano}\")\n",
    "    elif mes == 8:\n",
    "        return (f\"{dia} de Agosto de {ano}\")\n",
    "    elif mes == 9:\n",
    "        return (f\"{dia} de Setembro de {ano}\")\n",
    "    elif mes == 10:\n",
    "        return (f\"{dia} de Outubro de {ano}\")\n",
    "    elif mes == 11:\n",
    "        return (f\"{dia} de Novembro de {ano}\")\n",
    "    elif mes == 12:\n",
    "        return (f\"{dia} de Dezembro de {ano}\")\n",
    "    \n",
    "print(data_por_extenso('27/08/2019'))\n",
    "    \n",
    "print(data_por_extenso_com_int(27, 8, 2019))\n",
    "        "
   ]
  },
  {
   "cell_type": "markdown",
   "metadata": {},
   "source": [
    "3 - Faça uma função para verificar se um número é positivo ou negativo. Sendo que o valor de retorno será 1 se positivo, -1 se negativo e 0 se for igual a 0:"
   ]
  },
  {
   "cell_type": "code",
   "execution_count": 18,
   "metadata": {},
   "outputs": [
    {
     "name": "stdout",
     "output_type": "stream",
     "text": [
      "1\n",
      "0\n",
      "-1\n"
     ]
    }
   ],
   "source": [
    "def verifica_numero(num1):\n",
    "    if num1 > 0:\n",
    "        return 1\n",
    "    elif num1 == 0:\n",
    "        return 0\n",
    "    elif num1 < 0:\n",
    "        return -1\n",
    "    \n",
    "print (verifica_numero(5))\n",
    "print (verifica_numero(0))\n",
    "print (verifica_numero(-5))\n"
   ]
  },
  {
   "cell_type": "markdown",
   "metadata": {},
   "source": [
    "4 - Faça uma função para verificar se um número é um quadrado perfeito. Um quadrado perfeito é um número inteiro não negativo que pode ser expresso como o quadrado de outro número. Ex: 1, 4, 9"
   ]
  },
  {
   "cell_type": "code",
   "execution_count": 19,
   "metadata": {},
   "outputs": [
    {
     "name": "stdout",
     "output_type": "stream",
     "text": [
      "O número 9 é um quadrado perfeito !\n",
      "Este número não é um quadrado perfeito!\n",
      "Este número não é um quadrado perfeito!\n",
      "O número 49 é um quadrado perfeito !\n"
     ]
    }
   ],
   "source": [
    "def quadrado_perfeito(num1):\n",
    "    radiacao = num1 ** (1/2)    \n",
    "    if radiacao ** 2 == num1:\n",
    "        return (f'O número {num1} é um quadrado perfeito !')\n",
    "    return ('Este número não é um quadrado perfeito!')\n",
    "\n",
    "print (quadrado_perfeito(9))\n",
    "print (quadrado_perfeito(7))\n",
    "print (quadrado_perfeito(12))\n",
    "print (quadrado_perfeito(49))"
   ]
  },
  {
   "cell_type": "markdown",
   "metadata": {},
   "source": [
    "5 - Faça uma função e um programa de teste para o cálculo do volume de uma esfera. Sendo que o raio é passado por parâmetro.\n",
    "V = 4/3 * pi * R**3"
   ]
  },
  {
   "cell_type": "code",
   "execution_count": 23,
   "metadata": {},
   "outputs": [
    {
     "name": "stdout",
     "output_type": "stream",
     "text": [
      "14137.166941154068\n"
     ]
    }
   ],
   "source": [
    "import math\n",
    "\n",
    "def calculo_volume(raio):\n",
    "    volume = (4/3) * math.pi * (raio ** 3)\n",
    "    return volume\n",
    "    \n",
    "print(calculo_volume(15))"
   ]
  },
  {
   "cell_type": "markdown",
   "metadata": {},
   "source": [
    "6 - Faça uma função que receba 3 números inteiros como parâmetro, representando horas, minutos e segundos, e os converta em segundos."
   ]
  },
  {
   "cell_type": "code",
   "execution_count": 29,
   "metadata": {},
   "outputs": [
    {
     "name": "stdout",
     "output_type": "stream",
     "text": [
      "79245\n"
     ]
    }
   ],
   "source": [
    "def tempo_em_segundos(hora, minuto, segundo):\n",
    "    horas_em_segundos = ((hora * 60) * 60) + (minuto * 60) + segundo\n",
    "    return horas_em_segundos\n",
    "\n",
    "print(tempo_em_segundos(22, 0, 45))"
   ]
  },
  {
   "cell_type": "markdown",
   "metadata": {},
   "source": [
    "7 - Faça uma função que receba uma temperatura em graus Celsius e retorne-a convertida em graus Fahrenheit. A fórmula de conversão é : F = C *(9/5) * 32, sendo que F é a temperatura Fahrenheit e C a temperatura em Celsius."
   ]
  },
  {
   "cell_type": "code",
   "execution_count": 30,
   "metadata": {},
   "outputs": [
    {
     "name": "stdout",
     "output_type": "stream",
     "text": [
      "89.6\n"
     ]
    }
   ],
   "source": [
    "def converter_temperatura(temp):\n",
    "    fahrenheit = temp * (9/5) + 32\n",
    "    return fahrenheit\n",
    "\n",
    "print (converter_temperatura(32))"
   ]
  },
  {
   "cell_type": "markdown",
   "metadata": {},
   "source": [
    "8 - Sejam a e b os catetos de um triângulo, onde a hipotenusa é obtida pela equação: hipotenusa = raiz de a ** 2 + b ** 2. Faça uma função que receba os valores de a e b e calcule o valor da hipotenusa através da equação."
   ]
  },
  {
   "cell_type": "code",
   "execution_count": 31,
   "metadata": {},
   "outputs": [
    {
     "name": "stdout",
     "output_type": "stream",
     "text": [
      "9.433981132056603\n"
     ]
    }
   ],
   "source": [
    "import math\n",
    "\n",
    "def calculo_hipotenusa(cat_a, cat_b):\n",
    "    hipotenusa = math.sqrt(cat_a ** 2 + cat_b ** 2)\n",
    "    return hipotenusa\n",
    "\n",
    "print(calculo_hipotenusa(5, 8))"
   ]
  },
  {
   "cell_type": "markdown",
   "metadata": {},
   "source": [
    "9 - Faça uma função que receba a altura e o raio de um cilindro circular e retorne o volume do cilindro. O volume de um cilindro circular é calculado por meio da seguinte formula: V = pi * (raio ** 2) * altura, onde pi = 3.141592"
   ]
  },
  {
   "cell_type": "code",
   "execution_count": 32,
   "metadata": {},
   "outputs": [
    {
     "name": "stdout",
     "output_type": "stream",
     "text": [
      "50.265472\n"
     ]
    }
   ],
   "source": [
    "def volume_cilindro(altura, raio):\n",
    "    volume = 3.141592 * (raio ** 2) * altura\n",
    "    return volume\n",
    "\n",
    "print(volume_cilindro(4, 2))"
   ]
  },
  {
   "cell_type": "markdown",
   "metadata": {},
   "source": [
    "10 - Faça uma função que receba dois números inteiros e retorne qual deles é maior:"
   ]
  },
  {
   "cell_type": "code",
   "execution_count": 1,
   "metadata": {},
   "outputs": [
    {
     "name": "stdout",
     "output_type": "stream",
     "text": [
      "O número 5 é o maior número.\n",
      "O número 8 é o maior número.\n",
      "Os números digitados são iguais.\n"
     ]
    }
   ],
   "source": [
    "def numero_maior(num1, num2):\n",
    "    if num1 > num2:\n",
    "        return (f'O número {num1} é o maior número.')\n",
    "    elif num2 > num1:\n",
    "        return (f'O número {num2} é o maior número.')\n",
    "    return (f'Os números digitados são iguais.')\n",
    "\n",
    "print(numero_maior(1,5))\n",
    "print(numero_maior(8, 1))\n",
    "print(numero_maior(5, 5))"
   ]
  },
  {
   "cell_type": "markdown",
   "metadata": {},
   "source": [
    "11 - Elabore uma função que receba três notas de um aluno como parâmetros e uma letra. Se a letra for A, a função deverá calcular a média aritmetica das notas do aluno; se for P deverá calcular a média ponderada, com pesos 5, 3 e 2."
   ]
  },
  {
   "cell_type": "code",
   "execution_count": 7,
   "metadata": {},
   "outputs": [
    {
     "name": "stdout",
     "output_type": "stream",
     "text": [
      "2.0\n",
      "16\n",
      "Letra incorreta\n"
     ]
    }
   ],
   "source": [
    "def media(num1, num2, num3, letra):\n",
    "    if letra.upper() == 'A':\n",
    "        ma = (num1 + num2 + num3)/3\n",
    "        return ma\n",
    "    elif letra.upper() =='P':\n",
    "        mp = ((num1 * 5) + (num2 * 3) + (num3 + 2))\n",
    "        return  mp\n",
    "    return 'Letra incorreta'\n",
    "\n",
    "print(media(1, 2, 3, 'A'))\n",
    "print(media(1, 2, 3, 'P'))\n",
    "print(media(1, 2, 3, 'O'))"
   ]
  },
  {
   "cell_type": "markdown",
   "metadata": {},
   "source": [
    "12 - Escreva uma função que receba um número inteiro maior do que zero e retorne a soma de todos os seus algaritmos. Por exemplo, ao número 251 corresponderá o valor 8 (2+5+1=8). Se o número lido não for maior do que zero, o programa terminará com a mensagem \"Número Inválido\"."
   ]
  },
  {
   "cell_type": "code",
   "execution_count": 12,
   "metadata": {},
   "outputs": [
    {
     "name": "stdout",
     "output_type": "stream",
     "text": [
      "6\n",
      "24\n",
      "Número Inválido\n"
     ]
    }
   ],
   "source": [
    "def soma_algaritmos(num1):\n",
    "    soma = 0\n",
    "    if num1 > 0:\n",
    "        while(num1 > 0):\n",
    "            soma += num1 % 10\n",
    "            num1 = int(num1/10)\n",
    "        return soma\n",
    "    return 'Número Inválido'\n",
    "\n",
    "print(soma_algaritmos(123))\n",
    "print(soma_algaritmos(888))\n",
    "print(soma_algaritmos(-1))"
   ]
  },
  {
   "cell_type": "markdown",
   "metadata": {},
   "source": [
    "13 - Faça uma função que receba dois valores númericos e um símbolo. Este símbolo representa a operação que se deseja efetuar com os números. Se o símbolo for + deverá ser realizada uma adição, se for - deverá ser realizada uma subtração, se for / deverá ser realizado uma divisão e se for * deverá ser realizado uma multiplicação."
   ]
  },
  {
   "cell_type": "code",
   "execution_count": 13,
   "metadata": {},
   "outputs": [
    {
     "name": "stdout",
     "output_type": "stream",
     "text": [
      "6\n",
      "2\n",
      "40\n",
      "3.0\n"
     ]
    }
   ],
   "source": [
    "def calcular(num1, num2, operacao):\n",
    "    if operacao == '+':\n",
    "        return num1 + num2\n",
    "    elif operacao == '-':\n",
    "        return num1 - num2\n",
    "    elif operacao == '*':\n",
    "        return num1 * num2\n",
    "    elif operacao == '/':\n",
    "        return num1 / num2\n",
    "    return 'Operação invalida'\n",
    "    \n",
    "print(calcular(1, 5, '+'))\n",
    "print(calcular(5, 3, '-'))\n",
    "print(calcular(8, 5, '*'))\n",
    "print(calcular(6, 2, '/'))"
   ]
  },
  {
   "cell_type": "markdown",
   "metadata": {},
   "source": [
    "14 - Faça uma função que receba a distância em Km e a quantidade de litros de gasolina consumidos por um carro em um percurso, calcule o consumo em Km/l e escreva uma mensagem de acordo com a tabela abaixo:\n",
    "\n",
    "|Consumo   | Km/l   | Mensagem        |\n",
    "|----------|--------|-----------------|\n",
    "|menor que |  8     | Venda o carro!  |\n",
    "|entre     | 8 e 14 | Econônimo!      |\n",
    "|maior que |   14   | Super Econômico!|"
   ]
  },
  {
   "cell_type": "code",
   "execution_count": 23,
   "metadata": {},
   "outputs": [
    {
     "name": "stdout",
     "output_type": "stream",
     "text": [
      "Venda o carro!\n",
      "Carro econômico!\n",
      "Super Econômico!\n"
     ]
    }
   ],
   "source": [
    "def consumo_veiculo(distancia, litros):\n",
    "    if distancia/litros < 8:\n",
    "        return \"Venda o carro!\"\n",
    "    elif 14 > distancia/litros > 8:\n",
    "        return \"Carro econômico!\"\n",
    "    elif distancia/litros > 14:\n",
    "        return \"Super Econômico!\"\n",
    "    return \"Dados invalidos\"\n",
    "print(consumo_veiculo(100, 14))\n",
    "print(consumo_veiculo(100, 9))\n",
    "print(consumo_veiculo(100, 7))"
   ]
  },
  {
   "cell_type": "markdown",
   "metadata": {},
   "source": [
    "15 - Crie um programa que receba três valores (obrigatoriamente maiores que zero), representando as medidas dos três lados de um triângulo. Elabore funções que:\n",
    "* Determinar se eles lados forma um triângulo, sabendo que:\n",
    "    * O comprimento de cada lado de um triângulo é menor do que a soma dos outros dois lados.\n",
    "* Determinar e mostrar o tipo de triângulo, caso as medidas formem um triângulo. Sendo que:\n",
    "    * Chama-se equilátero o triângulo que tem três lados iguais.\n",
    "    * Denominam-se isósceles o triângulo que tem o comprimento de dois lados iguais.\n",
    "    * Recebe o nome de escaleno o triângulo que tem os três lados diferentes."
   ]
  },
  {
   "cell_type": "code",
   "execution_count": null,
   "metadata": {},
   "outputs": [],
   "source": [
    "def tipo_triangulo(lado1, lado2, lado3):\n",
    "    \n",
    "    \n",
    "def validar_triangulo(lado1, lado2, lado3):\n"
   ]
  }
 ],
 "metadata": {
  "kernelspec": {
   "display_name": "Python 3",
   "language": "python",
   "name": "python3"
  },
  "language_info": {
   "codemirror_mode": {
    "name": "ipython",
    "version": 3
   },
   "file_extension": ".py",
   "mimetype": "text/x-python",
   "name": "python",
   "nbconvert_exporter": "python",
   "pygments_lexer": "ipython3",
   "version": "3.7.4"
  }
 },
 "nbformat": 4,
 "nbformat_minor": 4
}
