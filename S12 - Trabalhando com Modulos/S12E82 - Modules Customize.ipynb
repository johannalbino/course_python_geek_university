{
 "cells": [
  {
   "cell_type": "markdown",
   "metadata": {},
   "source": [
    "# Modulos Customizados\n",
    "\n",
    "Como modulos python nada mais são do que arquivos Python, então todos os arquivos que criamos neste curso são módulos Python prontos para serem utilizados."
   ]
  },
  {
   "cell_type": "raw",
   "metadata": {},
   "source": [
    "from arquivo import função/classe\n",
    "\n",
    "print(função/classe(parametros/argumentos))"
   ]
  },
  {
   "cell_type": "raw",
   "metadata": {},
   "source": [
    "import arquivo_completo as ac\n",
    "\n",
    "print(ac.função/classe/variavel)"
   ]
  },
  {
   "cell_type": "code",
   "execution_count": null,
   "metadata": {},
   "outputs": [],
   "source": []
  }
 ],
 "metadata": {
  "kernelspec": {
   "display_name": "Python 3",
   "language": "python",
   "name": "python3"
  },
  "language_info": {
   "codemirror_mode": {
    "name": "ipython",
    "version": 3
   },
   "file_extension": ".py",
   "mimetype": "text/x-python",
   "name": "python",
   "nbconvert_exporter": "python",
   "pygments_lexer": "ipython3",
   "version": "3.7.4"
  }
 },
 "nbformat": 4,
 "nbformat_minor": 4
}
