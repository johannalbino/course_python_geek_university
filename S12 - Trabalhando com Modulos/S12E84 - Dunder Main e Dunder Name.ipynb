{
 "cells": [
  {
   "cell_type": "markdown",
   "metadata": {},
   "source": [
    "# Dunder Main and Dunder Name\n",
    "\n",
    "Dunder name -> __name__\n",
    "Dunder main -> __main__\n",
    "\n",
    "Em Python são utilizados dunder para criar funções, atributos, propriedades e etc.. utilizando Double Under para não gerar conflito com os nomes desses elementos na programação.\n",
    "\n",
    "Em Python, se executarmos um módulo Python diretamente na linha de comando, internamento o Python atribuirá a variável __name__ e __main__  indicando que este módulo é o módulo principal."
   ]
  }
 ],
 "metadata": {
  "kernelspec": {
   "display_name": "Python 3",
   "language": "python",
   "name": "python3"
  },
  "language_info": {
   "codemirror_mode": {
    "name": "ipython",
    "version": 3
   },
   "file_extension": ".py",
   "mimetype": "text/x-python",
   "name": "python",
   "nbconvert_exporter": "python",
   "pygments_lexer": "ipython3",
   "version": "3.7.4"
  }
 },
 "nbformat": 4,
 "nbformat_minor": 4
}
