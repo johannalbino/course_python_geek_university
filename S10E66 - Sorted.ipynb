{
 "cells": [
  {
   "cell_type": "markdown",
   "metadata": {},
   "source": [
    "# Sorted\n",
    "\n",
    "**OBS** Não confunda, apesar do nome, com a função sort() que já estudamos em Listas. O sort() só funciona em listas.\n",
    "\n",
    "* Podemos utilizar o sorted() com qualquer iterável\n",
    "* Como o próprio nome diz, sorted() serve para ordenar\n",
    "\n",
    "Exemplo"
   ]
  },
  {
   "cell_type": "code",
   "execution_count": 2,
   "metadata": {},
   "outputs": [
    {
     "name": "stdout",
     "output_type": "stream",
     "text": [
      "[6, 1, 8, 2]\n",
      "[1, 2, 6, 8]\n",
      "[6, 1, 8, 2]\n"
     ]
    }
   ],
   "source": [
    "numeros = [6, 1, 8, 2]\n",
    "print(numeros)\n",
    "\n",
    "print(sorted(numeros)) #Ordenar do menor para o maior\n",
    "\n",
    "print(numeros)"
   ]
  },
  {
   "cell_type": "markdown",
   "metadata": {},
   "source": [
    "**OBS** O sorted, sempre retorna uma lista com os elementos do iterável ordenados"
   ]
  },
  {
   "cell_type": "code",
   "execution_count": 4,
   "metadata": {},
   "outputs": [
    {
     "name": "stdout",
     "output_type": "stream",
     "text": [
      "[8, 6, 2, 1]\n"
     ]
    }
   ],
   "source": [
    "numeros = [6, 1, 8, 2]\n",
    "\n",
    "print(sorted(numeros, reverse=True)) #Ordena do maior para o menor"
   ]
  },
  {
   "cell_type": "code",
   "execution_count": 23,
   "metadata": {},
   "outputs": [
    {
     "name": "stdout",
     "output_type": "stream",
     "text": [
      "[{'username': 'bob123', 'tweets': [], 'cor': 'amarelo'}, {'username': 'carka', 'tweets': ['Eu amo meu gato']}, {'username': 'doggo', 'tweets': ['Eu gosto de cachorros', 'Vou sair hoje']}, {'username': 'gal', 'tweets': [], 'cor': 'preto', 'musica': 'rock'}, {'username': 'jeff', 'tweets': []}, {'username': 'samuel', 'tweets': ['Eu adoro bolos', 'Eu adoro pizzas']}]\n",
      "[{'username': 'jeff', 'tweets': []}, {'username': 'bob123', 'tweets': [], 'cor': 'amarelo'}, {'username': 'gal', 'tweets': [], 'cor': 'preto', 'musica': 'rock'}, {'username': 'carka', 'tweets': ['Eu amo meu gato']}, {'username': 'samuel', 'tweets': ['Eu adoro bolos', 'Eu adoro pizzas']}, {'username': 'doggo', 'tweets': ['Eu gosto de cachorros', 'Vou sair hoje']}]\n"
     ]
    }
   ],
   "source": [
    "#Usando sorted() para coisas mais complexas\n",
    "\n",
    "usuarios = [\n",
    "    {\"username\": \"samuel\", \"tweets\": [\"Eu adoro bolos\", \"Eu adoro pizzas\"]},\n",
    "    {\"username\": \"carka\", \"tweets\": [\"Eu amo meu gato\"]},\n",
    "    {\"username\": \"jeff\", \"tweets\": []},\n",
    "    {\"username\": \"bob123\", \"tweets\": [], \"cor\": \"amarelo\"},\n",
    "    {\"username\": \"doggo\", \"tweets\": [\"Eu gosto de cachorros\", \"Vou sair hoje\"]},\n",
    "    {\"username\": \"gal\", \"tweets\": [], \"cor\": \"preto\", \"musica\": \"rock\"}\n",
    "]\n",
    "\n",
    "print(usuarios)\n",
    "print(sorted(usuarios, key= len)) #ordena por quantidade de indices (username, tweets, etcc)\n",
    "\n",
    "print(sorted(usuarios, key= lambda usuario: usuario[\"username\"])) #ordenando pelo nome dos usuarios utilizando lambda\n",
    "print(sorted(usuarios, key= lambda usuario: len(usuario['tweets']))) #ordenando pela quantidade de twitees"
   ]
  },
  {
   "cell_type": "code",
   "execution_count": 24,
   "metadata": {},
   "outputs": [
    {
     "name": "stdout",
     "output_type": "stream",
     "text": [
      "[{'titulo': 'Dead Skin Mask', 'tocou': 2}, {'titulo': 'Thunderstruck', 'tocou': 3}, {'titulo': 'Back in Black', 'tocou': 4}, {'titulo': \"Too old to rock'in'roll\", 'tocou': 32}]\n",
      "[{'titulo': \"Too old to rock'in'roll\", 'tocou': 32}, {'titulo': 'Back in Black', 'tocou': 4}, {'titulo': 'Thunderstruck', 'tocou': 3}, {'titulo': 'Dead Skin Mask', 'tocou': 2}]\n"
     ]
    }
   ],
   "source": [
    "musicas = [\n",
    "    {\"titulo\": \"Thunderstruck\", \"tocou\": 3},\n",
    "    {\"titulo\": \"Dead Skin Mask\", \"tocou\": 2},\n",
    "    {\"titulo\": \"Back in Black\", \"tocou\": 4},\n",
    "    {\"titulo\": \"Too old to rock'in'roll\", \"tocou\": 32}\n",
    "]\n",
    "\n",
    "#Ordenando da menos tocada para a mais tocada\n",
    "print(sorted(musicas, key= lambda musica: musica[\"tocou\"]))\n",
    "\n",
    "#Ordenando da mais tocada para  a menos toca\n",
    "print(sorted(musicas, key= lambda musica: musica[\"tocou\"], reverse=True))\n",
    "\n"
   ]
  }
 ],
 "metadata": {
  "kernelspec": {
   "display_name": "Python 3",
   "language": "python",
   "name": "python3"
  },
  "language_info": {
   "codemirror_mode": {
    "name": "ipython",
    "version": 3
   },
   "file_extension": ".py",
   "mimetype": "text/x-python",
   "name": "python",
   "nbconvert_exporter": "python",
   "pygments_lexer": "ipython3",
   "version": "3.7.4"
  }
 },
 "nbformat": 4,
 "nbformat_minor": 4
}
