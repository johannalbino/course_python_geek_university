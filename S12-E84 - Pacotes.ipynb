{
 "cells": [
  {
   "cell_type": "markdown",
   "metadata": {},
   "source": [
    "# Package\n",
    "\n",
    "Module - É apenas um arquivo Python que pode ter diversas funções para utilizarmos.\n",
    "\n",
    "Package - É um diretório contendo uma coleção de módulos.\n",
    "\n",
    "**OBS** Nas versões 2.x do Python, um pacote Python deveria conter dentro dele um arquivo chamado  __init__.py\n",
    "\n",
    "\n",
    "Nas versões do Python 3.x, não é mais obrigatória a utilização deste arquivo, mas normalmente ainda é utilizado para manter compatibilidade."
   ]
  }
 ],
 "metadata": {
  "kernelspec": {
   "display_name": "Python 3",
   "language": "python",
   "name": "python3"
  },
  "language_info": {
   "codemirror_mode": {
    "name": "ipython",
    "version": 3
   },
   "file_extension": ".py",
   "mimetype": "text/x-python",
   "name": "python",
   "nbconvert_exporter": "python",
   "pygments_lexer": "ipython3",
   "version": "3.7.4"
  }
 },
 "nbformat": 4,
 "nbformat_minor": 4
}
