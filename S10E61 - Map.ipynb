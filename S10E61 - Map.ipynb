{
 "cells": [
  {
   "cell_type": "markdown",
   "metadata": {},
   "source": [
    "# Map\n",
    "\n",
    "* Com o MAP fazemos mapeamento de valores para função.\n",
    "\n",
    "Exemplo:"
   ]
  },
  {
   "cell_type": "code",
   "execution_count": 19,
   "metadata": {},
   "outputs": [
    {
     "name": "stdout",
     "output_type": "stream",
     "text": [
      "12.566370614359172\n",
      "88.24733763933729\n",
      "[12.566370614359172, 78.53981633974483, 158.36768566746147, 0.2827433388230814, 314.1592653589793, 6082.12337734984]\n"
     ]
    }
   ],
   "source": [
    "import math\n",
    "\n",
    "def area(r):\n",
    "    \"\"\"Calcula a área de um círculo com raio 'r'\"\"\"\n",
    "    return math.pi * (r ** 2)\n",
    "\n",
    "print(area(2))\n",
    "print(area(5.3))\n",
    "\n",
    "raios = [2, 5, 7.1, 0.3, 10, 44]\n",
    "\n",
    "#Forma comum\n",
    "\n",
    "areas = []\n",
    "for r in raios:\n",
    "    areas.append(area(r))\n",
    "\n",
    "print(areas)\n",
    "\n",
    "#Forma com Map\n",
    "areas = []\n",
    "areas_lambda = []\n"
   ]
  },
  {
   "cell_type": "markdown",
   "metadata": {},
   "source": [
    "Map é uma função que recebe dois parâmetros: O primeiro a função/lambda, o segundo um iterável\n",
    "\n",
    "**Usando com função**"
   ]
  },
  {
   "cell_type": "code",
   "execution_count": 17,
   "metadata": {},
   "outputs": [
    {
     "name": "stdout",
     "output_type": "stream",
     "text": [
      "[12.566370614359172, 78.53981633974483, 158.36768566746147, 0.2827433388230814, 314.1592653589793, 6082.12337734984]\n"
     ]
    }
   ],
   "source": [
    "areas = map(area, raios)\n",
    "print(list(areas))"
   ]
  },
  {
   "cell_type": "markdown",
   "metadata": {},
   "source": [
    "**Usando com lambda**"
   ]
  },
  {
   "cell_type": "code",
   "execution_count": 18,
   "metadata": {},
   "outputs": [
    {
     "name": "stdout",
     "output_type": "stream",
     "text": [
      "[12.566370614359172, 78.53981633974483, 158.36768566746147, 0.2827433388230814, 314.1592653589793, 6082.12337734984]\n"
     ]
    }
   ],
   "source": [
    "areas_lambda = map(lambda x: math.pi * (x ** 2), raios)\n",
    "print(list(areas_lambda))"
   ]
  },
  {
   "cell_type": "markdown",
   "metadata": {},
   "source": [
    "**OBS** Após utilizar a função map() depois da primeira utilização do resultado, ele zera."
   ]
  },
  {
   "cell_type": "markdown",
   "metadata": {},
   "source": [
    "# Para fixar - Map\n",
    "\n",
    "Temos dados iteráveis:\n",
    "* dados: a1, a2, a3, ...., an;\n",
    "Temos uma função:\n",
    "* Função f(x)\n",
    "\n",
    "Utilizamos a função map (f, dados), onde map irá 'mapear' cada elemento dos dados e aplicar a função."
   ]
  },
  {
   "cell_type": "code",
   "execution_count": 2,
   "metadata": {},
   "outputs": [
    {
     "name": "stdout",
     "output_type": "stream",
     "text": [
      "[('Berlim', 84.2), ('Cairo', 96.8), ('Buenos Aires', 66.2), ('Los Angeles', 78.80000000000001), ('Tokio', 80.6), ('Nova York', 82.4), ('Londres', 71.6)]\n"
     ]
    }
   ],
   "source": [
    "cidades = [('Berlim', 29), ('Cairo', 36), ('Buenos Aires', 19), ('Los Angeles', 26), ('Tokio', 27), ('Nova York', 28), ('Londres', 22)]\n",
    "\n",
    "#converter celsius para farehent\n",
    "\n",
    "c_para_f = lambda dado: (dado[0], (9/5) * dado[1] + 32)\n",
    "\n",
    "\n",
    "print(list(map(c_para_f, cidades)))"
   ]
  }
 ],
 "metadata": {
  "kernelspec": {
   "display_name": "Python 3",
   "language": "python",
   "name": "python3"
  },
  "language_info": {
   "codemirror_mode": {
    "name": "ipython",
    "version": 3
   },
   "file_extension": ".py",
   "mimetype": "text/x-python",
   "name": "python",
   "nbconvert_exporter": "python",
   "pygments_lexer": "ipython3",
   "version": "3.7.4"
  }
 },
 "nbformat": 4,
 "nbformat_minor": 4
}
