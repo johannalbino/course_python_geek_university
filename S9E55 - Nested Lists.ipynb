{
 "cells": [
  {
   "cell_type": "markdown",
   "metadata": {},
   "source": [
    "# Listas Aninhadas\n",
    "\n",
    "* Algumas linguagens de programação possuem uma estrutura de dados chamadas de arrays:\n",
    "    * Unidimensionais (Arrays/Vetores);\n",
    "    * Multidimensionais (Matrizes).\n",
    "\n",
    "Em Python nós temos as Listas.\n",
    "\n",
    "Exemplo:"
   ]
  },
  {
   "cell_type": "code",
   "execution_count": 7,
   "metadata": {},
   "outputs": [
    {
     "name": "stdout",
     "output_type": "stream",
     "text": [
      "[[1, 2, 3], [4, 5, 6], [7, 8, 9]]\n",
      "<class 'list'>\n",
      "[1, 2, 3]\n",
      "2\n",
      "[7, 8, 9]\n",
      "8\n"
     ]
    }
   ],
   "source": [
    "listas = [[1, 2, 3], [4, 5, 6], [7, 8, 9]]  #Matriz 3 x 3\n",
    "\n",
    "print(listas)\n",
    "print(type(listas))\n",
    "\n",
    "print(listas[0])\n",
    "print(listas[0][1])\n",
    "print(listas[2])\n",
    "print(listas[2][1])"
   ]
  },
  {
   "cell_type": "code",
   "execution_count": 16,
   "metadata": {},
   "outputs": [
    {
     "name": "stdout",
     "output_type": "stream",
     "text": [
      "1\n",
      "2\n",
      "3\n",
      "4\n",
      "5\n",
      "6\n",
      "7\n",
      "8\n",
      "9\n"
     ]
    }
   ],
   "source": [
    "listas = [[1, 2, 3], [4, 5, 6], [7, 8, 9]]  #Matriz 3 x 3\n",
    "\n",
    "for l in listas:\n",
    "    for li in l:\n",
    "        print(li)"
   ]
  },
  {
   "cell_type": "code",
   "execution_count": 17,
   "metadata": {},
   "outputs": [
    {
     "name": "stdout",
     "output_type": "stream",
     "text": [
      "1\n",
      "2\n",
      "3\n",
      "4\n",
      "5\n",
      "6\n",
      "7\n",
      "8\n",
      "9\n"
     ]
    },
    {
     "data": {
      "text/plain": [
       "[[None, None, None], [None, None, None], [None, None, None]]"
      ]
     },
     "execution_count": 17,
     "metadata": {},
     "output_type": "execute_result"
    }
   ],
   "source": [
    "listas = [[1, 2, 3], [4, 5, 6], [7, 8, 9]]  #Matriz 3 x 3\n",
    "\n",
    "[[print(valor) for valor in lista] for lista in listas] #list comprehension"
   ]
  },
  {
   "cell_type": "markdown",
   "metadata": {},
   "source": [
    "Outro exemplo\n",
    "\n",
    "Gerando um tabuleiro/matriz 3 x 3"
   ]
  },
  {
   "cell_type": "code",
   "execution_count": 18,
   "metadata": {},
   "outputs": [
    {
     "name": "stdout",
     "output_type": "stream",
     "text": [
      "[[1, 2, 3], [1, 2, 3], [1, 2, 3]]\n"
     ]
    }
   ],
   "source": [
    "tabuleiro = [[numero for numero in range(1, 4)] for valor in range(1, 4)]\n",
    "\n",
    "print(tabuleiro)"
   ]
  },
  {
   "cell_type": "code",
   "execution_count": 19,
   "metadata": {},
   "outputs": [
    {
     "name": "stdout",
     "output_type": "stream",
     "text": [
      "[['0', 'X', '0'], ['0', 'X', '0'], ['0', 'X', '0']]\n"
     ]
    }
   ],
   "source": [
    "velha = [['X' if numero%2 == 0 else '0' for numero in range(1, 4)] for valor in range(1, 4)]\n",
    "\n",
    "print(velha)"
   ]
  },
  {
   "cell_type": "code",
   "execution_count": 25,
   "metadata": {},
   "outputs": [
    {
     "name": "stdout",
     "output_type": "stream",
     "text": [
      "[['*', '*', '*', '*', '*', '*', '*'], ['*', '*', '*', '*', '*', '*', '*']]\n"
     ]
    }
   ],
   "source": [
    "print([['*' for i in range(1, 8)] for j in range(0, 2)])"
   ]
  },
  {
   "cell_type": "code",
   "execution_count": null,
   "metadata": {},
   "outputs": [],
   "source": []
  }
 ],
 "metadata": {
  "kernelspec": {
   "display_name": "Python 3",
   "language": "python",
   "name": "python3"
  },
  "language_info": {
   "codemirror_mode": {
    "name": "ipython",
    "version": 3
   },
   "file_extension": ".py",
   "mimetype": "text/x-python",
   "name": "python",
   "nbconvert_exporter": "python",
   "pygments_lexer": "ipython3",
   "version": "3.7.4"
  }
 },
 "nbformat": 4,
 "nbformat_minor": 4
}
