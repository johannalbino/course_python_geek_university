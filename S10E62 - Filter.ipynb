{
 "cells": [
  {
   "cell_type": "markdown",
   "metadata": {},
   "source": [
    "# Filter (filter())\n",
    "\n",
    "* Serve para filtrar dados de uma determinada coleção."
   ]
  },
  {
   "cell_type": "code",
   "execution_count": 3,
   "metadata": {},
   "outputs": [
    {
     "name": "stdout",
     "output_type": "stream",
     "text": [
      "3.5\n"
     ]
    }
   ],
   "source": [
    "valores = 1, 2, 3, 4, 5, 6\n",
    "media = (sum(valores)/len(valores))\n",
    "\n",
    "print(media)\n",
    "\n"
   ]
  },
  {
   "cell_type": "markdown",
   "metadata": {},
   "source": [
    "**OBS**\n",
    "* Assim como função map(), a filter() recebe dois parâmetros, sendo uma função e um iterável."
   ]
  },
  {
   "cell_type": "code",
   "execution_count": 11,
   "metadata": {},
   "outputs": [
    {
     "name": "stdout",
     "output_type": "stream",
     "text": [
      "2.183333333333333\n",
      "(2.7, 4.1, 4.3)\n",
      "()\n"
     ]
    }
   ],
   "source": [
    "#Biblioteca para trabalhar com dados estatisticos\n",
    "import statistics\n",
    "\n",
    "#Dados coletados de algum sensor\n",
    "dados = [1.3, 2.7, 0.8, 4.1, 4.3, -0.1]\n",
    "\n",
    "#Calcular media dos dados utilizando a função mean()\n",
    "media = statistics.mean(dados)\n",
    "\n",
    "print(media)\n",
    "\n",
    "#Verificando quais os números da coleção que é maior que a media\n",
    "res = filter(lambda x:x > media, dados)\n",
    "\n",
    "print(tuple(res))\n",
    "\n",
    "#após utilizado os dados de filter() eles são excluídos da memória\n",
    "print(tuple(res))"
   ]
  },
  {
   "cell_type": "code",
   "execution_count": 22,
   "metadata": {},
   "outputs": [
    {
     "name": "stdout",
     "output_type": "stream",
     "text": [
      "['', 'Argentina', '', 'Brasil', 'Chile', '', 'Colombia', '', 'Equador', '', '', 'Venezuela']\n",
      "['Argentina', 'Brasil', 'Chile', 'Colombia', 'Equador', 'Venezuela']\n",
      "['Argentina', 'Brasil', 'Chile', 'Colombia', 'Equador', 'Venezuela']\n",
      "['Argentina', 'Brasil', 'Chile', 'Colombia', 'Equador', 'Venezuela']\n"
     ]
    }
   ],
   "source": [
    "paises = ['', 'Argentina', '', 'Brasil', 'Chile', '', 'Colombia', '', 'Equador', '', '', 'Venezuela']\n",
    "\n",
    "print(paises)\n",
    "\n",
    "#resolvendo com filter\n",
    "res = filter(None, paises)\n",
    "\n",
    "print(list(res))\n",
    "\n",
    "#resolvendo com lambda\n",
    "res = filter(lambda pais: len(pais) > 0, paises)\n",
    "print(list(res))\n",
    "\n",
    "#resolvendo com for\n",
    "res = []\n",
    "for p in paises:\n",
    "    if p != '':\n",
    "        res.append(p)\n",
    "        \n",
    "print(res)"
   ]
  },
  {
   "cell_type": "markdown",
   "metadata": {},
   "source": [
    "A diferença entre **map()** e **filter()** é:\n",
    "* map() -> Recebe dois parâmetros, uma função e um iterável e retorna um objeto mapeando a função para cada elemento do iterável.\n",
    "* filter() -> Recebe dois parâmetros, uma função e um iterável e retorna um objeto filtrando apenas os elementos de acordo com a função.\n",
    "\n",
    "Exemplo mais completo:"
   ]
  },
  {
   "cell_type": "code",
   "execution_count": 27,
   "metadata": {},
   "outputs": [
    {
     "name": "stdout",
     "output_type": "stream",
     "text": [
      "[{'username': 'jeff', 'tweets': []}, {'username': 'bob123', 'tweets': []}, {'username': 'gal', 'tweets': []}]\n",
      "[{'username': 'jeff', 'tweets': []}, {'username': 'bob123', 'tweets': []}, {'username': 'gal', 'tweets': []}]\n"
     ]
    }
   ],
   "source": [
    "usuarios = [\n",
    "    {\"username\": \"samuel\", \"tweets\": [\"Eu adoro bolos\", \"Eu adoro pizzas\"]},\n",
    "    {\"username\": \"carka\", \"tweets\": [\"Eu amo meu gato\"]},\n",
    "    {\"username\": \"jeff\", \"tweets\": []},\n",
    "    {\"username\": \"bob123\", \"tweets\": []},\n",
    "    {\"username\": \"doggo\", \"tweets\": [\"Eu gosto de cachorros\", \"Vou sair hoje\"]},\n",
    "    {\"username\": \"gal\", \"tweets\": []}\n",
    "]\n",
    "\n",
    "\n",
    "#Filtrar os usuários que estão inativos no Twitter\n",
    "\n",
    "#forma 1\n",
    "inativos = list(filter(lambda user: len(user['tweets']) == 0, usuarios))\n",
    "\n",
    "print(inativos)\n",
    "\n",
    "#forma 2\n",
    "inativos = list(filter(lambda user: not user['tweets'], usuarios))\n",
    "\n",
    "print(inativos)"
   ]
  },
  {
   "cell_type": "markdown",
   "metadata": {},
   "source": [
    "Combinar filter() com map()"
   ]
  },
  {
   "cell_type": "code",
   "execution_count": 29,
   "metadata": {},
   "outputs": [
    {
     "name": "stdout",
     "output_type": "stream",
     "text": [
      "['Sua instrutora é: Ana', 'Sua instrutora é: Lara']\n"
     ]
    }
   ],
   "source": [
    "nomes = ['Vanessa', 'Ana', 'Maria', 'Lara']\n",
    "\n",
    "#Devemos criar uma lista contendo 'Sua instrutora é ' + nome, desde que cada nome tenha menos de 5 caracteres\n",
    "\n",
    "lista = list(map(lambda nome: f'Sua instrutora é: {nome}', filter(lambda nome: len(nome) < 5, nomes)))\n",
    "\n",
    "print(lista)"
   ]
  }
 ],
 "metadata": {
  "kernelspec": {
   "display_name": "Python 3",
   "language": "python",
   "name": "python3"
  },
  "language_info": {
   "codemirror_mode": {
    "name": "ipython",
    "version": 3
   },
   "file_extension": ".py",
   "mimetype": "text/x-python",
   "name": "python",
   "nbconvert_exporter": "python",
   "pygments_lexer": "ipython3",
   "version": "3.7.4"
  }
 },
 "nbformat": 4,
 "nbformat_minor": 4
}
