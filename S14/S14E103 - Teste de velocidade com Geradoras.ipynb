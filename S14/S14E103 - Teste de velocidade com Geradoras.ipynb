{
 "cells": [
  {
   "cell_type": "markdown",
   "metadata": {},
   "source": [
    "# Testes de velocidade com Geradoras\n",
    "\n",
    "Recordando:"
   ]
  },
  {
   "cell_type": "code",
   "execution_count": 5,
   "metadata": {},
   "outputs": [
    {
     "name": "stdout",
     "output_type": "stream",
     "text": [
      "<generator object nums at 0x05E10CF0>\n",
      "1\n",
      "2\n",
      "3\n"
     ]
    }
   ],
   "source": [
    "# Generators (Geradores)\n",
    "\n",
    "def nums():\n",
    "    for num in range(1,10):\n",
    "        yield num\n",
    "        \n",
    "    \n",
    "ge1 = nums()\n",
    "\n",
    "print(ge1)  #generator\n",
    "print(next(ge1))\n",
    "print(next(ge1))\n",
    "print(next(ge1))"
   ]
  },
  {
   "cell_type": "code",
   "execution_count": 8,
   "metadata": {},
   "outputs": [
    {
     "name": "stdout",
     "output_type": "stream",
     "text": [
      "<generator object <genexpr> at 0x00971070>\n",
      "1\n",
      "2\n"
     ]
    }
   ],
   "source": [
    "# Generators Expression\n",
    "\n",
    "ge2 = (num for num in range(1,10))\n",
    "\n",
    "print(ge2)\n",
    "\n",
    "print(next(ge2))\n",
    "print(next(ge2))"
   ]
  },
  {
   "cell_type": "code",
   "execution_count": 17,
   "metadata": {},
   "outputs": [
    {
     "name": "stdout",
     "output_type": "stream",
     "text": [
      "49999995000000\n",
      "O tempo de execução da Generators Expression foi de: 1.1708664894104004\n"
     ]
    }
   ],
   "source": [
    "import time\n",
    "\n",
    "# Generators Expression\n",
    "gen_inicio = time.time()\n",
    "\n",
    "print(sum(num for num in range(10000000)))\n",
    "\n",
    "gen_tempo = time.time() - gen_inicio\n",
    "\n",
    "print(f'O tempo de execução da Generators Expression foi de: {gen_tempo}')\n"
   ]
  },
  {
   "cell_type": "code",
   "execution_count": 18,
   "metadata": {},
   "outputs": [
    {
     "name": "stdout",
     "output_type": "stream",
     "text": [
      "49999995000000\n",
      "O tempo de execução da List Comprehensio foi de: 1.0461616516113281\n"
     ]
    }
   ],
   "source": [
    "\n",
    "#List Comprehension\n",
    "\n",
    "list_inicio = time.time()\n",
    "\n",
    "print(sum([num for num in range(10000000)]))\n",
    "\n",
    "list_tempo = time.time() - list_inicio\n",
    "\n",
    "print(f'O tempo de execução da List Comprehensio foi de: {list_tempo}')"
   ]
  }
 ],
 "metadata": {
  "kernelspec": {
   "display_name": "Python 3",
   "language": "python",
   "name": "python3"
  },
  "language_info": {
   "codemirror_mode": {
    "name": "ipython",
    "version": 3
   },
   "file_extension": ".py",
   "mimetype": "text/x-python",
   "name": "python",
   "nbconvert_exporter": "python",
   "pygments_lexer": "ipython3",
   "version": "3.7.4"
  }
 },
 "nbformat": 4,
 "nbformat_minor": 4
}
