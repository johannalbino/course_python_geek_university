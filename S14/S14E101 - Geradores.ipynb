{
 "cells": [
  {
   "cell_type": "markdown",
   "metadata": {},
   "source": [
    "# Geradores - Generators\n",
    "\n",
    "* São Iterators (Iteradores)\n",
    "* Generators podem ser criados com funções geradoras;\n",
    "* Funções geradoras utilizam a palavra reservada yield;\n",
    "* Generators podem ser criados com Expressões Geradoras;\n",
    "\n",
    "**OBS** O contrario não é verdadeiro, ou seja, nem todo iterator é um generator.\n",
    "\n",
    "Diferenças entre Functions e Generators Functions:\n",
    "\n",
    "|Functions                                | Generator Functions                    |\n",
    "|-----------------------------------------|----------------------------------------|\n",
    "|Utilizando return                        | utilizam yield                         |\n",
    "|Retorna uma vez                          | Podem utilizar yield múltiplas vezes   |\n",
    "|Quando executada retorna um valor        | Quando executada retorna um generator  |\n",
    "\n",
    "Exemplo de Generator Function"
   ]
  },
  {
   "cell_type": "code",
   "execution_count": 8,
   "metadata": {},
   "outputs": [
    {
     "name": "stdout",
     "output_type": "stream",
     "text": [
      "1\n",
      "2\n",
      "3\n",
      "4\n",
      "5\n"
     ]
    }
   ],
   "source": [
    "def conta_ate (valor_maximo):\n",
    "    contador = 1\n",
    "    while contador <= valor_maximo:\n",
    "        yield contador\n",
    "        contador = contador + 1\n",
    "\n",
    "t1 = conta_ate(5)\n",
    "\n",
    "print(next(t1))\n",
    "print(next(t1))\n",
    "print(next(t1))\n",
    "print(next(t1))\n",
    "print(next(t1))"
   ]
  },
  {
   "cell_type": "code",
   "execution_count": 10,
   "metadata": {},
   "outputs": [
    {
     "name": "stdout",
     "output_type": "stream",
     "text": [
      "1\n",
      "2\n",
      "3\n",
      "4\n",
      "5\n"
     ]
    }
   ],
   "source": [
    "def conta_ate (valor_maximo):\n",
    "    contador = 1\n",
    "    while contador <= valor_maximo:\n",
    "        yield contador\n",
    "        contador = contador + 1\n",
    "\n",
    "gen = conta_ate(5)\n",
    "\n",
    "for n in gen:\n",
    "    print(n)"
   ]
  },
  {
   "cell_type": "code",
   "execution_count": 12,
   "metadata": {},
   "outputs": [
    {
     "name": "stdout",
     "output_type": "stream",
     "text": [
      "1\n"
     ]
    }
   ],
   "source": [
    "#Exemplo com return/function\n",
    "\n",
    "def conta_ate (valor_maximo):\n",
    "    contador = 1\n",
    "    while contador <= valor_maximo:\n",
    "        return contador\n",
    "        contador = contador + 1\n",
    "\n",
    "gen = conta_ate(5)\n",
    "\n",
    "print(gen)"
   ]
  }
 ],
 "metadata": {
  "kernelspec": {
   "display_name": "Python 3",
   "language": "python",
   "name": "python3"
  },
  "language_info": {
   "codemirror_mode": {
    "name": "ipython",
    "version": 3
   },
   "file_extension": ".py",
   "mimetype": "text/x-python",
   "name": "python",
   "nbconvert_exporter": "python",
   "pygments_lexer": "ipython3",
   "version": "3.7.4"
  }
 },
 "nbformat": 4,
 "nbformat_minor": 4
}
