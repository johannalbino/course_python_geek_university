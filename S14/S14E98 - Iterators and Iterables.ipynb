{
 "cells": [
  {
   "cell_type": "markdown",
   "metadata": {},
   "source": [
    "# Entendendo sobre Iterators e Iterables\n",
    "\n",
    "Iterator\n",
    "* É um objeto que pode ser iterado.\n",
    "* Um objeto que retorna um dado, sendo um elemento por vez quando uma função next() é chamada;\n",
    "\n",
    "Iterable\n",
    "* Um objeto que irá retornar um iterator quando a função iter() for chamada.\n",
    "\n",
    "Exemplo:"
   ]
  },
  {
   "cell_type": "code",
   "execution_count": 19,
   "metadata": {},
   "outputs": [
    {
     "name": "stdout",
     "output_type": "stream",
     "text": [
      "G\n",
      "e\n",
      "e\n",
      "k\n",
      "------\n",
      "1\n",
      "2\n",
      "3\n",
      "4\n",
      "5\n",
      "6\n",
      "------\n"
     ]
    }
   ],
   "source": [
    "nome = 'Geek' #É um iterable, mas não é um Iterator\n",
    "numeros = [1, 2, 3, 4, 5, 6] #É um iterable, mas não é um Iterator\n",
    "\n",
    "it1 = iter(nome)\n",
    "it2 = iter(numeros)\n",
    "\n",
    "print(next(it1))\n",
    "print(next(it1))\n",
    "print(next(it1))\n",
    "print(next(it1))\n",
    "print('------')\n",
    "print(next(it2))\n",
    "print(next(it2))\n",
    "print(next(it2))\n",
    "print(next(it2))\n",
    "print(next(it2))\n",
    "print(next(it2))\n",
    "print('------')"
   ]
  },
  {
   "cell_type": "code",
   "execution_count": 21,
   "metadata": {},
   "outputs": [
    {
     "name": "stdout",
     "output_type": "stream",
     "text": [
      "G\n",
      "e\n",
      "e\n",
      "k\n"
     ]
    }
   ],
   "source": [
    "nome = 'Geek' #É um iterable, mas não é um Iterator\n",
    "\n",
    "for letra in nome:\n",
    "    print(f'{letra}')"
   ]
  }
 ],
 "metadata": {
  "kernelspec": {
   "display_name": "Python 3",
   "language": "python",
   "name": "python3"
  },
  "language_info": {
   "codemirror_mode": {
    "name": "ipython",
    "version": 3
   },
   "file_extension": ".py",
   "mimetype": "text/x-python",
   "name": "python",
   "nbconvert_exporter": "python",
   "pygments_lexer": "ipython3",
   "version": "3.7.4"
  }
 },
 "nbformat": 4,
 "nbformat_minor": 4
}
