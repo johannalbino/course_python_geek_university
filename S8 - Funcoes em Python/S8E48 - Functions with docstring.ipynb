{
 "cells": [
  {
   "cell_type": "markdown",
   "metadata": {},
   "source": [
    "# Documentando funções com Docstring\n",
    "\n",
    "Exemplo"
   ]
  },
  {
   "cell_type": "code",
   "execution_count": 7,
   "metadata": {},
   "outputs": [
    {
     "name": "stdout",
     "output_type": "stream",
     "text": [
      "Oi!\n",
      "None\n",
      "Help on function diz_oi in module __main__:\n",
      "\n",
      "diz_oi()\n",
      "    Uma função simples que retorna a string 'Oi!''\n",
      "\n",
      "None\n",
      "Uma função simples que retorna a string 'Oi!''\n"
     ]
    }
   ],
   "source": [
    "def diz_oi(): \n",
    "    \"\"\"Uma função simples que retorna a string 'Oi!''\"\"\"\n",
    "    print ('Oi!')\n",
    "    \n",
    "print (diz_oi())\n",
    "\n",
    "print(help(diz_oi))\n",
    "\n",
    "print(diz_oi.__doc__)"
   ]
  },
  {
   "cell_type": "code",
   "execution_count": 13,
   "metadata": {},
   "outputs": [
    {
     "name": "stdout",
     "output_type": "stream",
     "text": [
      "4\n",
      "Help on function exponencial in module __main__:\n",
      "\n",
      "exponencial(numero, potencia=2)\n",
      "    Função que retorna por padrão o quadrado de 'numero' ou 'numero' á 'potencia' informada.\n",
      "    :param numero: Número que desejamos gerar o exponencial.\n",
      "    :param potencia: Potencia que queremos gerar o exponencial, por padrão é 2.\n",
      "    :return: Retorna o exponencial de 'numero' por 'potencia'\n",
      "\n",
      "None\n"
     ]
    }
   ],
   "source": [
    "def exponencial(numero, potencia=2):\n",
    "    \"\"\"\n",
    "    Função que retorna por padrão o quadrado de 'numero' ou 'numero' á 'potencia' informada.\n",
    "    :param numero: Número que desejamos gerar o exponencial.\n",
    "    :param potencia: Potencia que queremos gerar o exponencial, por padrão é 2.\n",
    "    :return: Retorna o exponencial de 'numero' por 'potencia'\n",
    "    \"\"\"\n",
    "    return numero ** potencia\n",
    "\n",
    "print(exponencial(2))\n",
    "\n",
    "print(help(exponencial))"
   ]
  }
 ],
 "metadata": {
  "kernelspec": {
   "display_name": "Python 3",
   "language": "python",
   "name": "python3"
  },
  "language_info": {
   "codemirror_mode": {
    "name": "ipython",
    "version": 3
   },
   "file_extension": ".py",
   "mimetype": "text/x-python",
   "name": "python",
   "nbconvert_exporter": "python",
   "pygments_lexer": "ipython3",
   "version": "3.7.4"
  }
 },
 "nbformat": 4,
 "nbformat_minor": 4
}
