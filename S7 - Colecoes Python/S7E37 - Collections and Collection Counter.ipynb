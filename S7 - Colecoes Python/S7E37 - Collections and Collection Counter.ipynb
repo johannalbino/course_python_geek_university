{
 "cells": [
  {
   "cell_type": "markdown",
   "metadata": {},
   "source": [
    "# Collections\n",
    "\n",
    "\n",
    "*Collections* = High-performance Container Datetypes\n",
    "\n",
    "### Counter:\n",
    "\n",
    "Recebe um interavel como parâmetro e cria um objeto do tipo Collections Counter que é parecido com um dicionário, contendo como chave o elemento da lista passada como parâmetro e como valor a quantidade de ocorrências desse elementos.\n",
    "\n",
    "\n",
    "Exemplo"
   ]
  },
  {
   "cell_type": "code",
   "execution_count": 4,
   "metadata": {},
   "outputs": [
    {
     "name": "stdout",
     "output_type": "stream",
     "text": [
      "Counter({1: 5, 3: 5, 2: 4, 5: 4, 4: 3, 45: 2, 66: 2, 43: 1, 34: 1})\n"
     ]
    }
   ],
   "source": [
    "from collections import Counter\n",
    "\n",
    "lista = [1, 1, 1, 2, 2, 3, 3, 3, 3, 1, 1, 2, 2, 4, 4, 4, 5, 5, 5, 5, 3, 45, 45, 66, 66, 43, 34]\n",
    "\n",
    "res = Counter(lista)\n",
    "\n",
    "print(res)"
   ]
  },
  {
   "cell_type": "markdown",
   "metadata": {},
   "source": [
    "Veja que, para cada elemento da lista, o Counter criou uma chave e colocou como valor a quantidade de ocorrências\n",
    "\n",
    "Exemplo 2:"
   ]
  },
  {
   "cell_type": "code",
   "execution_count": 6,
   "metadata": {},
   "outputs": [
    {
     "name": "stdout",
     "output_type": "stream",
     "text": [
      "Counter({'e': 3, 'i': 2, 'G': 1, 'k': 1, ' ': 1, 'U': 1, 'n': 1, 'v': 1, 'r': 1, 's': 1, 't': 1, 'y': 1})\n"
     ]
    }
   ],
   "source": [
    "from collections import Counter\n",
    "\n",
    "print(Counter('Geek University'))"
   ]
  },
  {
   "cell_type": "markdown",
   "metadata": {},
   "source": [
    "Exemplo 3:"
   ]
  },
  {
   "cell_type": "code",
   "execution_count": 13,
   "metadata": {},
   "outputs": [
    {
     "name": "stdout",
     "output_type": "stream",
     "text": [
      "Counter({'que': 11, 'é': 10, 'melhor': 8, 'a': 6, 'de': 3, '—': 3, 'uma': 3, 'especiais': 2, 'não': 2, 'são': 2, 'para': 2, 'nunca': 2, 'menos': 2, 'um': 2, 'modo': 2, 'óbvio': 2, 'Embora': 2, 'ser': 2, 'seja': 2, 'Se': 2, 'implementação': 2, 'explicar,': 2, 'idéia.': 2, 'Bonito': 1, 'feio.': 1, 'Explícito': 1, 'implícito.': 1, 'Simples': 1, 'complexo.': 1, 'Complexo': 1, 'complicado.': 1, 'Linear': 1, 'do': 1, 'aninhado.': 1, 'Esparso': 1, 'denso.': 1, 'Legibilidade': 1, 'conta.': 1, 'Casos': 1, 'o': 1, 'bastante': 1, 'quebrar': 1, 'as': 1, 'regras.': 1, 'Ainda': 1, 'praticidade': 1, 'vença': 1, 'pureza.': 1, 'Erros': 1, 'devem': 1, 'passar': 1, 'silenciosamente.': 1, 'A': 1, 'sejam': 1, 'explicitamente': 1, 'silenciados.': 1, 'Diante': 1, 'da': 1, 'ambigüidade,': 1, 'recuse': 1, 'tentação': 1, 'adivinhar.': 1, 'Deveria': 1, 'haver': 1, 'e': 1, 'preferencialmente': 1, 'só': 1, 'fazer': 1, 'algo.': 1, 'esse': 1, 'possa': 1, 'princípio': 1, 'você': 1, 'holandês.': 1, 'Agora': 1, 'nunca.': 1, 'freqüentemente': 1, 'já.': 1, 'difícil': 1, 'má': 1, 'fácil': 1, 'pode': 1, 'boa': 1, 'Namespaces': 1, 'grande': 1, 'idéia': 1, 'vamos': 1, 'ter': 1, 'mais': 1, 'dessas!': 1}) \n",
      "\n",
      "[('que', 11), ('é', 10), ('melhor', 8), ('a', 6), ('de', 3)]\n"
     ]
    }
   ],
   "source": [
    "from collections import Counter\n",
    "\n",
    "texto = \"\"\"Bonito é melhor que feio.\n",
    "Explícito é melhor que implícito.\n",
    "Simples é melhor que complexo.\n",
    "Complexo é melhor que complicado.\n",
    "Linear é melhor do que aninhado.\n",
    "Esparso é melhor que denso.\n",
    "Legibilidade conta.\n",
    "Casos especiais não são especiais o bastante para quebrar as regras.\n",
    "Ainda que praticidade vença a pureza.\n",
    "Erros nunca devem passar silenciosamente.\n",
    "A menos que sejam explicitamente silenciados.\n",
    "Diante da ambigüidade, recuse a tentação de adivinhar.\n",
    "Deveria haver um — e preferencialmente só um — modo óbvio para fazer algo.\n",
    "Embora esse modo possa não ser óbvio a princípio a menos que você seja holandês.\n",
    "Agora é melhor que nunca.\n",
    "Embora nunca freqüentemente seja melhor que já.\n",
    "Se a implementação é difícil de explicar, é uma má idéia.\n",
    "Se a implementação é fácil de explicar, pode ser uma boa idéia.\n",
    "Namespaces são uma grande idéia — vamos ter mais dessas!\"\"\"\n",
    "\n",
    "palavras = texto.split()\n",
    "\n",
    "res = Counter(palavras)\n",
    "\n",
    "print(res, \"\\n\")\n",
    "\n",
    "#Encontrando as 5 palavras que mais tem ocorrências no texto\n",
    "print (res.most_common(5))"
   ]
  },
  {
   "cell_type": "code",
   "execution_count": null,
   "metadata": {},
   "outputs": [],
   "source": []
  }
 ],
 "metadata": {
  "kernelspec": {
   "display_name": "Python 3",
   "language": "python",
   "name": "python3"
  },
  "language_info": {
   "codemirror_mode": {
    "name": "ipython",
    "version": 3
   },
   "file_extension": ".py",
   "mimetype": "text/x-python",
   "name": "python",
   "nbconvert_exporter": "python",
   "pygments_lexer": "ipython3",
   "version": "3.7.4"
  }
 },
 "nbformat": 4,
 "nbformat_minor": 2
}
