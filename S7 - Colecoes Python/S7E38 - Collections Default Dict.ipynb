{
 "cells": [
  {
   "cell_type": "markdown",
   "metadata": {},
   "source": [
    "# Collection Default Dict\n",
    "\n",
    "Recap Dict:\n",
    "\n",
    "dicionario = {'curso': 'Programação em Python: Essencial'}\n",
    "\n",
    "print(dicionario)\n",
    "\n",
    "print(dicionario['curso'])\n",
    "\n",
    "\n",
    "### Default Dict\n",
    "Ao criar um dicionário utilizando-o, nós informamos um valor default, podendo utilizar um lambda para isso. Este valor será utilizado sempre que não houver um valor definidido. Caso tentamos acessar uma chave que não existe, essa chave será criada e o valor default será atribuido.\n",
    "\n",
    "**OBS**: Lambdas são funções sem nome que podem ou não receber parâmetros de entrada e retornar valores."
   ]
  },
  {
   "cell_type": "code",
   "execution_count": 12,
   "metadata": {},
   "outputs": [
    {
     "name": "stdout",
     "output_type": "stream",
     "text": [
      "defaultdict(<function <lambda> at 0x0049EA08>, {})\n",
      "defaultdict(<function <lambda> at 0x0049EA08>, {'curso': 'Programção em Python: Essencial'})\n",
      "Programção em Python: Essencial\n",
      "None\n",
      "defaultdict(<function <lambda> at 0x0049EA08>, {'curso': 'Programção em Python: Essencial', 'outro': None})\n"
     ]
    }
   ],
   "source": [
    "from collections import defaultdict\n",
    "\n",
    "dicionario = defaultdict(lambda: None)\n",
    "\n",
    "print(dicionario)\n",
    "\n",
    "dicionario['curso'] = 'Programção em Python: Essencial'\n",
    "\n",
    "print (dicionario)\n",
    "\n",
    "print (dicionario['curso'])\n",
    "\n",
    "print (dicionario['outro'])\n",
    "\n",
    "print (dicionario)"
   ]
  }
 ],
 "metadata": {
  "kernelspec": {
   "display_name": "Python 3",
   "language": "python",
   "name": "python3"
  },
  "language_info": {
   "codemirror_mode": {
    "name": "ipython",
    "version": 3
   },
   "file_extension": ".py",
   "mimetype": "text/x-python",
   "name": "python",
   "nbconvert_exporter": "python",
   "pygments_lexer": "ipython3",
   "version": "3.7.4"
  }
 },
 "nbformat": 4,
 "nbformat_minor": 2
}
