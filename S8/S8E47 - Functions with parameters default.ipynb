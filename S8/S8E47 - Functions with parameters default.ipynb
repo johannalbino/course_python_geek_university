{
 "cells": [
  {
   "cell_type": "markdown",
   "metadata": {},
   "source": [
    "# Funções com Parâmetros Padrão (Default: Parameters)\n",
    "\n",
    "* Funções onde a passagem de parâmetro seja opcional\n",
    "\n",
    "Exemplo:"
   ]
  },
  {
   "cell_type": "code",
   "execution_count": 1,
   "metadata": {},
   "outputs": [
    {
     "name": "stdout",
     "output_type": "stream",
     "text": [
      "Geek University\n",
      "\n"
     ]
    }
   ],
   "source": [
    "print ('Geek University') #com parametro\n",
    "\n",
    "print() #sem parametro"
   ]
  },
  {
   "cell_type": "code",
   "execution_count": 3,
   "metadata": {},
   "outputs": [
    {
     "name": "stdout",
     "output_type": "stream",
     "text": [
      "1\n",
      "4\n"
     ]
    }
   ],
   "source": [
    "def exponencial(numero, potencia=2):\n",
    "    return numero ** potencia\n",
    "\n",
    "print(exponencial(1))\n",
    "print(exponencial(2,2))"
   ]
  },
  {
   "cell_type": "markdown",
   "metadata": {},
   "source": [
    "**OBS**\n",
    "* Se o usuário passar somente 1 argumento, este será atribuído ao parâmetro numero, e será calculado o quadrado deste numero;\n",
    "* se o usuário passar 2 argumentos, o primeiro será atribuído ao parâmetro numero e o segundo ao parâmetro potencia. Então será calculada esta potência.\n",
    "\n",
    "**Em funções Python, os parâmetros com valores default (padrão) DEVEM sempre estar ao final da declaração.**\n",
    "\n",
    "Outros exemplos:"
   ]
  },
  {
   "cell_type": "code",
   "execution_count": 4,
   "metadata": {},
   "outputs": [
    {
     "name": "stdout",
     "output_type": "stream",
     "text": [
      "7\n",
      "7\n",
      "8\n"
     ]
    }
   ],
   "source": [
    "def soma(num1=5, num2=3):\n",
    "    return num1 + num2\n",
    "\n",
    "print(soma(4, 3))\n",
    "print(soma(4))\n",
    "print(soma())"
   ]
  },
  {
   "cell_type": "code",
   "execution_count": 7,
   "metadata": {},
   "outputs": [
    {
     "name": "stdout",
     "output_type": "stream",
     "text": [
      "Eu pensei que você era o instrutor\n",
      "Bem-vindo instrutor Geek\n",
      "Olá True\n",
      "Olá Ozzy\n",
      "Olá Stephany\n"
     ]
    }
   ],
   "source": [
    "def mostra_informacao(nome='Geek', instrutor=False):\n",
    "    if nome == 'Geek' and instrutor:\n",
    "        return 'Bem-vindo instrutor Geek'\n",
    "    elif nome == 'Geek':\n",
    "        return 'Eu pensei que você era o instrutor'\n",
    "    return (f'Olá {nome}')\n",
    "\n",
    "print(mostra_informacao())\n",
    "print(mostra_informacao(instrutor=True))\n",
    "print(mostra_informacao(True))\n",
    "print(mostra_informacao('Ozzy'))\n",
    "print(mostra_informacao(nome='Stephany'))"
   ]
  },
  {
   "cell_type": "markdown",
   "metadata": {},
   "source": [
    "Por que utilizar parâmetros com valor default?\n",
    "\n",
    "* Nos permite ser mais flexíveis nas funções;\n",
    "* Evita erros com parâmetros incorretos;\n",
    "* Nos permite trabalhar com exemplos mais legíveis de códigos.\n",
    "\n",
    "Quais tipos de dados podemos utilizar como valores default para parâmetros?\n",
    "\n",
    "* Qualquer tipo de dado:\n",
    "    * Números, strings, floats, booleanos, listas, tuplas, dicionários, funções e etc;\n",
    "    \n",
    "Exemplos:"
   ]
  },
  {
   "cell_type": "code",
   "execution_count": 8,
   "metadata": {},
   "outputs": [
    {
     "name": "stdout",
     "output_type": "stream",
     "text": [
      "5\n",
      "0\n"
     ]
    }
   ],
   "source": [
    "def soma(num1, num2):\n",
    "    return num1 + num2\n",
    "\n",
    "def mat(num1, num2, fun=soma):\n",
    "    return fun(num1, num2)\n",
    "\n",
    "def subtracao(num1, num2):\n",
    "    return num1 - num2\n",
    "\n",
    "print (mat(2, 3))\n",
    "print(mat(2, 2, subtracao))"
   ]
  },
  {
   "cell_type": "code",
   "execution_count": null,
   "metadata": {},
   "outputs": [],
   "source": []
  }
 ],
 "metadata": {
  "kernelspec": {
   "display_name": "Python 3",
   "language": "python",
   "name": "python3"
  },
  "language_info": {
   "codemirror_mode": {
    "name": "ipython",
    "version": 3
   },
   "file_extension": ".py",
   "mimetype": "text/x-python",
   "name": "python",
   "nbconvert_exporter": "python",
   "pygments_lexer": "ipython3",
   "version": "3.7.4"
  }
 },
 "nbformat": 4,
 "nbformat_minor": 4
}
