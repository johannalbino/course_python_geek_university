{
 "cells": [
  {
   "cell_type": "markdown",
   "metadata": {},
   "source": [
    "# Entendendo *arqs\n",
    "\n",
    "* O *arqgs é um parâmetro, como outro qualquer. Isso significa que você poderá chamar de qualquer coisa, desde que começe com asterisco.\n",
    "\n",
    "O parâmetro *arqs utilizado em uma função coloca os valores extras informados como entrada em uma tupla. Então desde já lembre-se que tuplas são imutáveis.\n",
    "\n",
    "Exemplo:"
   ]
  },
  {
   "cell_type": "code",
   "execution_count": 3,
   "metadata": {},
   "outputs": [
    {
     "name": "stdout",
     "output_type": "stream",
     "text": [
      "19\n"
     ]
    }
   ],
   "source": [
    "def soma_todos_numeros(num1, num2, num3):\n",
    "    return num1 + num2 + num3\n",
    "\n",
    "print(soma_todos_numeros(4, 6, 9))\n",
    "\n",
    "print (soma_todos_numeros(4, 6, 9, 10)) #TypeError"
   ]
  },
  {
   "cell_type": "code",
   "execution_count": 5,
   "metadata": {},
   "outputs": [
    {
     "name": "stdout",
     "output_type": "stream",
     "text": [
      "()\n",
      "None\n",
      "(1,)\n",
      "None\n",
      "(2, 3)\n",
      "None\n",
      "(2, 3, 4)\n",
      "None\n",
      "(3, 4, 5, 6)\n",
      "None\n"
     ]
    }
   ],
   "source": [
    "def soma_todos_numeros(*args):\n",
    "    print(args)\n",
    "\n",
    "print(soma_todos_numeros())\n",
    "print(soma_todos_numeros(1))\n",
    "print(soma_todos_numeros(2, 3))\n",
    "print(soma_todos_numeros(2, 3, 4))\n",
    "print(soma_todos_numeros(3, 4, 5, 6))"
   ]
  },
  {
   "cell_type": "code",
   "execution_count": 6,
   "metadata": {},
   "outputs": [
    {
     "name": "stdout",
     "output_type": "stream",
     "text": [
      "0\n",
      "1\n",
      "5\n",
      "9\n",
      "18\n",
      "35.9\n"
     ]
    }
   ],
   "source": [
    "def varios_valores(nome, email, *args):\n",
    "    return sum(args)\n",
    "\n",
    "print(varios_valores('Angelina', 'Jolie'))\n",
    "print(varios_valores('Angelina', 'Jolie', 1))\n",
    "print(varios_valores('Angeline', 'Jolie', 2, 3))\n",
    "print(varios_valores('Angeline', 'Jolie', 2, 3, 4))\n",
    "print(varios_valores('Angeline', 'Jolie', 3, 4, 5, 6))\n",
    "print(varios_valores('Angeline', 'Jolie', 23.4, 12.5))"
   ]
  },
  {
   "cell_type": "code",
   "execution_count": 7,
   "metadata": {},
   "outputs": [
    {
     "name": "stdout",
     "output_type": "stream",
     "text": [
      "Eu não tenho certeza quem você é....\n",
      "Bem-vindo Geek\n",
      "Eu não tenho certeza quem você é....\n"
     ]
    }
   ],
   "source": [
    "def verifica_info(*args):\n",
    "    if 'Geek' in args and 'University' in args:\n",
    "        return 'Bem-vindo Geek'\n",
    "    return 'Eu não tenho certeza quem você é....'\n",
    "\n",
    "print(verifica_info())\n",
    "print(verifica_info(1, True, 'University', 'Geek'))\n",
    "print(verifica_info(1, 'University', 3.145))"
   ]
  },
  {
   "cell_type": "code",
   "execution_count": 8,
   "metadata": {},
   "outputs": [
    {
     "name": "stdout",
     "output_type": "stream",
     "text": [
      "0\n",
      "18\n"
     ]
    }
   ],
   "source": [
    "def soma_todos_numeros(*arqgs):\n",
    "    return sum(arqgs)\n",
    "\n",
    "print(soma_todos_numeros())\n",
    "print(soma_todos_numeros(3, 4, 5, 6))\n",
    "\n",
    "numeros = [1, 2, 3, 4, 5, 6, 7]\n",
    "\n",
    "#print(soma_todos_numeros(numeros)) #TypeError"
   ]
  },
  {
   "cell_type": "markdown",
   "metadata": {},
   "source": [
    "**OBS**\n",
    "* Se você passar uma lista como parametros de uma função que tenha um arqgs, não vai funcionar, porque o arqgs vai entender a lista como um argumento só.\n",
    "* Para funcionar deve fazer um desempacotar da lista colocando um asterisco no parametro da função.\n",
    "\n",
    "Exemplo:"
   ]
  },
  {
   "cell_type": "code",
   "execution_count": 9,
   "metadata": {},
   "outputs": [
    {
     "name": "stdout",
     "output_type": "stream",
     "text": [
      "28\n"
     ]
    }
   ],
   "source": [
    "def soma_todos_numeros(*arqgs):\n",
    "    return sum(arqgs)\n",
    "\n",
    "numeros = [1, 2, 3, 4, 5, 6, 7]\n",
    "\n",
    "print(soma_todos_numeros(*numeros))"
   ]
  },
  {
   "cell_type": "markdown",
   "metadata": {},
   "source": [
    "O asterisco serve para que informemos ao Python que estamos passando como argumento uma coleção de dados. Desta forma, ele saberá que precisará antes desempacotar estes dados."
   ]
  },
  {
   "cell_type": "code",
   "execution_count": null,
   "metadata": {},
   "outputs": [],
   "source": []
  }
 ],
 "metadata": {
  "kernelspec": {
   "display_name": "Python 3",
   "language": "python",
   "name": "python3"
  },
  "language_info": {
   "codemirror_mode": {
    "name": "ipython",
    "version": 3
   },
   "file_extension": ".py",
   "mimetype": "text/x-python",
   "name": "python",
   "nbconvert_exporter": "python",
   "pygments_lexer": "ipython3",
   "version": "3.7.4"
  }
 },
 "nbformat": 4,
 "nbformat_minor": 4
}
