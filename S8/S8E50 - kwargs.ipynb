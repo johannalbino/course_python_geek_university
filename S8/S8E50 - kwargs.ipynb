{
 "cells": [
  {
   "cell_type": "markdown",
   "metadata": {},
   "source": [
    "# Entendo o kwargs\n",
    "\n",
    "Poderíamos chamar este parâmetro de qualquer outro nome, mas por convenção chamamos de **kwargs\n",
    "\n",
    "Este é só mais um parâmetro, mas diferente do args que coloca os valores extras em uma tupla, o **kwargs exige que utilizemos parâmetros nomeados e transforma esses parâmetros extras em um dicionário."
   ]
  },
  {
   "cell_type": "code",
   "execution_count": 1,
   "metadata": {},
   "outputs": [
    {
     "name": "stdout",
     "output_type": "stream",
     "text": [
      "{'marcos': 'verde', 'julia': 'amarelo', 'fernanda': 'azul', 'vanessa': 'branco'}\n",
      "None\n"
     ]
    }
   ],
   "source": [
    "def cores_favoritas(**kwargs):\n",
    "    print(kwargs)\n",
    "    \n",
    "print(cores_favoritas(marcos='verde', julia='amarelo', fernanda='azul', vanessa='branco'))"
   ]
  },
  {
   "cell_type": "code",
   "execution_count": 2,
   "metadata": {},
   "outputs": [
    {
     "name": "stdout",
     "output_type": "stream",
     "text": [
      "A cor favorita de Marcos é cor verde\n",
      "A cor favorita de Julia é cor amarelo\n",
      "A cor favorita de Fernanda é cor azul\n",
      "A cor favorita de Vanessa é cor branco\n",
      "None\n"
     ]
    }
   ],
   "source": [
    "def cores_favoritas(**kwargs):\n",
    "    for pessoa, cor in kwargs.items():\n",
    "        print(f'A cor favorita de {pessoa.title()} é cor {cor}')\n",
    "    \n",
    "print(cores_favoritas(marcos='verde', julia='amarelo', fernanda='azul', vanessa='branco'))"
   ]
  },
  {
   "cell_type": "markdown",
   "metadata": {},
   "source": [
    "**OBS**\n",
    "* Os parâmetros *args e **kwargs não são obrigatórios."
   ]
  },
  {
   "cell_type": "code",
   "execution_count": 3,
   "metadata": {},
   "outputs": [
    {
     "name": "stdout",
     "output_type": "stream",
     "text": [
      "A cor favorita de Geek é cor navy\n"
     ]
    }
   ],
   "source": [
    "cores_favoritas()\n",
    "\n",
    "cores_favoritas(geek='navy')"
   ]
  },
  {
   "cell_type": "code",
   "execution_count": 6,
   "metadata": {},
   "outputs": [
    {
     "name": "stdout",
     "output_type": "stream",
     "text": [
      "Não tenho certeza quem você é...\n",
      "Você recebeu um cumprimento Pythônico Geek!\n",
      "Oi Geek!\n",
      "especial Geek!\n"
     ]
    }
   ],
   "source": [
    "def cumprimento_especial(**kwargs):\n",
    "    if 'geek' in kwargs and kwargs['geek'] == 'Python':\n",
    "        return 'Você recebeu um cumprimento Pythônico Geek!'\n",
    "    elif 'geek' in kwargs:\n",
    "        return f\"{kwargs['geek']} Geek!\"\n",
    "    return 'Não tenho certeza quem você é...'\n",
    "\n",
    "print(cumprimento_especial())\n",
    "print(cumprimento_especial(geek='Python'))\n",
    "print(cumprimento_especial(geek='Oi'))\n",
    "print(cumprimento_especial(geek='especial'))"
   ]
  },
  {
   "cell_type": "markdown",
   "metadata": {},
   "source": [
    "Nas nossas funções, podemos ter (nesta ordem):\n",
    "* Parâmetros obrigatórios;\n",
    "* *args;\n",
    "* Parâmetros default (não obrigatórios)\n",
    "* **kwargs\n",
    "\n",
    "Exemplo:"
   ]
  },
  {
   "cell_type": "code",
   "execution_count": 7,
   "metadata": {},
   "outputs": [
    {
     "name": "stdout",
     "output_type": "stream",
     "text": [
      "Julia tem 8 anos\n",
      "()\n",
      "Casado\n",
      "{}\n",
      "None\n",
      "Felicity tem 18 anos\n",
      "(4, 5, 3)\n",
      "Solteiro\n",
      "{}\n",
      "None\n",
      "Felipe tem 34 anos\n",
      "()\n",
      "Casado\n",
      "{'eu': 'Não', 'voce': 'Vai'}\n",
      "None\n",
      "Carla tem 19 anos\n",
      "(9, 4, 3)\n",
      "Casado\n",
      "{'java': False, 'python': True}\n",
      "None\n"
     ]
    }
   ],
   "source": [
    "def minha_funcao(idade, nome, *args, solteiro=False, **kwargs):\n",
    "    print(f'{nome} tem {idade} anos')\n",
    "    print(args)\n",
    "    \n",
    "    if solteiro:\n",
    "        print('Solteiro')\n",
    "    else:\n",
    "        print('Casado')\n",
    "    print(kwargs)\n",
    "    \n",
    "print(minha_funcao(8, 'Julia'))\n",
    "print(minha_funcao(18, 'Felicity', 4, 5, 3, solteiro=True))\n",
    "print(minha_funcao(34, 'Felipe', eu='Não', voce='Vai'))\n",
    "print(minha_funcao(19, 'Carla', 9, 4, 3, java=False, python=True))"
   ]
  },
  {
   "cell_type": "markdown",
   "metadata": {},
   "source": [
    "### Entendendo por quê é importante manter a ordem dos parâmetros na declaração"
   ]
  },
  {
   "cell_type": "code",
   "execution_count": 5,
   "metadata": {},
   "outputs": [
    {
     "name": "stdout",
     "output_type": "stream",
     "text": [
      "[1, 2, (3,), 'Geek', {'sobrenome': 'University', 'cargo': 'Instrutor'}]\n",
      "[1, 2, (), 3, {'sobrenome': 'University', 'cargo': 'Instrutor'}]\n"
     ]
    }
   ],
   "source": [
    "def mostra_info(a, b, *args, instrutor='Geek', **kwargs): #ordem correta dos parâmetros\n",
    "    return [a, b, args, instrutor, kwargs]\n",
    "\n",
    "def mostra_info_error(a, b, instrutor='Geek', *args, **kwargs): #ordem incorreta dos parâmetros\n",
    "    return [a, b, args, instrutor, kwargs]\n",
    "\n",
    "print(mostra_info(1, 2, 3, sobrenome='University', cargo='Instrutor')) \n",
    "print(mostra_info_error(1, 2, 3, sobrenome='University', cargo='Instrutor')) \n"
   ]
  },
  {
   "cell_type": "code",
   "execution_count": 8,
   "metadata": {},
   "outputs": [
    {
     "name": "stdout",
     "output_type": "stream",
     "text": [
      "Felicity Jones\n",
      "Johann Herbert\n"
     ]
    }
   ],
   "source": [
    "def mostra_nomes(**kwargs):\n",
    "    return (f\"{kwargs['nome']} {kwargs['sobrenome']}\")\n",
    "\n",
    "nome = {'nome': 'Johann', 'sobrenome': 'Herbert'}\n",
    "\n",
    "print (mostra_nomes(nome='Felicity', sobrenome='Jones'))\n",
    "print(mostra_nomes(**nome))"
   ]
  },
  {
   "cell_type": "code",
   "execution_count": 12,
   "metadata": {},
   "outputs": [
    {
     "name": "stdout",
     "output_type": "stream",
     "text": [
      "6\n",
      "6\n",
      "6\n",
      "6\n"
     ]
    }
   ],
   "source": [
    "def soma_multiplos_numeros(a, b , c):\n",
    "    return a + b + c\n",
    "\n",
    "lista = [1, 2, 3]\n",
    "tupla = (1, 2, 3)\n",
    "conjunto = {1, 2, 3}\n",
    "\n",
    "print(soma_multiplos_numeros(*lista))\n",
    "print(soma_multiplos_numeros(*tupla))\n",
    "print(soma_multiplos_numeros(*conjunto))\n",
    "\n",
    "#OBS: Os nomes da chave em um dicionario devem ser os mesmos dos parâmetros da função.\n",
    "\n",
    "dicionario = dict(a=1, b=2, c=3)\n",
    "\n",
    "print(soma_multiplos_numeros(**dicionario))"
   ]
  }
 ],
 "metadata": {
  "kernelspec": {
   "display_name": "Python 3",
   "language": "python",
   "name": "python3"
  },
  "language_info": {
   "codemirror_mode": {
    "name": "ipython",
    "version": 3
   },
   "file_extension": ".py",
   "mimetype": "text/x-python",
   "name": "python",
   "nbconvert_exporter": "python",
   "pygments_lexer": "ipython3",
   "version": "3.7.4"
  }
 },
 "nbformat": 4,
 "nbformat_minor": 4
}
