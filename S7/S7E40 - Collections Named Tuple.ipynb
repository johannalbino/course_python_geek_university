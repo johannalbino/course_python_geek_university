{
 "cells": [
  {
   "cell_type": "markdown",
   "metadata": {},
   "source": [
    "# Collections Named Tuple\n",
    "\n",
    "Recap Tuple:\n",
    "\n",
    "tupla = (1, 2, 3)\n",
    "\n",
    "print(tupla[1])\n",
    "\n",
    "### Named Tuple\n",
    "São tuplas diferenciadas onde especificamos um nome para a mesma e também parâmetros.\n",
    "\n",
    "Exemplo 1:"
   ]
  },
  {
   "cell_type": "code",
   "execution_count": 4,
   "metadata": {},
   "outputs": [],
   "source": [
    "from collections import namedtuple\n",
    "\n",
    "cachorro = namedtuple('cachorro', 'idade raca nome')\n",
    "\n"
   ]
  },
  {
   "cell_type": "markdown",
   "metadata": {},
   "source": [
    "Exemplo 2:"
   ]
  },
  {
   "cell_type": "code",
   "execution_count": 5,
   "metadata": {},
   "outputs": [],
   "source": [
    "from collections import namedtuple\n",
    "\n",
    "cachorro = namedtuple('cachorro', 'idade, raca, nome')"
   ]
  },
  {
   "cell_type": "markdown",
   "metadata": {},
   "source": [
    "Exemplo 3:"
   ]
  },
  {
   "cell_type": "code",
   "execution_count": 12,
   "metadata": {},
   "outputs": [
    {
     "name": "stdout",
     "output_type": "stream",
     "text": [
      "cachorro(idade=2, raca='Chow-Chow', nome='Ray')\n",
      "2\n",
      "Ray\n",
      "Chow-Chow\n",
      "2\n",
      "Chow-Chow\n",
      "Ray\n",
      "1\n",
      "1\n"
     ]
    }
   ],
   "source": [
    "from collections import namedtuple\n",
    "\n",
    "cachorro = namedtuple('cachorro', ['idade', 'raca', 'nome'])\n",
    "\n",
    "ray = cachorro(idade=2, raca='Chow-Chow', nome='Ray')\n",
    "\n",
    "print(ray)\n",
    "\n",
    "print(ray.idade)\n",
    "print(ray.nome)\n",
    "print(ray.raca)\n",
    "\n",
    "print(ray[0])\n",
    "print(ray[1])\n",
    "print(ray[2])\n",
    "\n",
    "print(ray.index('Chow-Chow'))\n",
    "print(ray.count('Chow-Chow'))"
   ]
  }
 ],
 "metadata": {
  "kernelspec": {
   "display_name": "Python 3",
   "language": "python",
   "name": "python3"
  },
  "language_info": {
   "codemirror_mode": {
    "name": "ipython",
    "version": 3
   },
   "file_extension": ".py",
   "mimetype": "text/x-python",
   "name": "python",
   "nbconvert_exporter": "python",
   "pygments_lexer": "ipython3",
   "version": "3.7.4"
  }
 },
 "nbformat": 4,
 "nbformat_minor": 2
}
