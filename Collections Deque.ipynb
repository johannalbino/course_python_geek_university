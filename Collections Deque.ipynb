{
 "cells": [
  {
   "cell_type": "markdown",
   "metadata": {},
   "source": [
    "# Collections Deque\n",
    "\n",
    "Podemos dizer que o deque é uma lista de alta performance.\n",
    "\n",
    "**OBS**: Há diferença da lista para o deque, é que o deque pode inserir um elemento no inicio da lista"
   ]
  },
  {
   "cell_type": "code",
   "execution_count": 6,
   "metadata": {},
   "outputs": [
    {
     "name": "stdout",
     "output_type": "stream",
     "text": [
      "deque(['g', 'e', 'e', 'k'])\n",
      "deque(['g', 'e', 'e', 'k', 'y'])\n",
      "deque(['j', 'g', 'e', 'e', 'k', 'y'])\n",
      "deque(['j', 'g', 'e', 'e', 'k'])\n",
      "deque(['g', 'e', 'e', 'k'])\n"
     ]
    }
   ],
   "source": [
    "from collections import deque\n",
    "\n",
    "deq = deque('geek')\n",
    "\n",
    "print(deq)\n",
    "\n",
    "deq.append('y') #adiciona no final da lista o elemento\n",
    "\n",
    "print(deq)\n",
    "\n",
    "deq.appendleft('j') #adiciona no inicio da lista o elemento\n",
    "\n",
    "print(deq)\n",
    "\n",
    "deq.pop() #deleta o ultimo elemento da lista\n",
    "\n",
    "print(deq)\n",
    "\n",
    "deq.popleft() #deleta o primeiro elemento da lista\n",
    "\n",
    "print(deq)"
   ]
  }
 ],
 "metadata": {
  "kernelspec": {
   "display_name": "Python 3",
   "language": "python",
   "name": "python3"
  },
  "language_info": {
   "codemirror_mode": {
    "name": "ipython",
    "version": 3
   },
   "file_extension": ".py",
   "mimetype": "text/x-python",
   "name": "python",
   "nbconvert_exporter": "python",
   "pygments_lexer": "ipython3",
   "version": "3.7.4"
  }
 },
 "nbformat": 4,
 "nbformat_minor": 2
}
