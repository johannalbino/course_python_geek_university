{
 "cells": [
  {
   "cell_type": "markdown",
   "metadata": {},
   "source": [
    "# Module Random and what is modules?\n",
    "\n",
    "* Em Python, módulos nada mais são do que outros arquivos Python.\n",
    "\n",
    "### Module Random\n",
    "\n",
    "Possui várias funções para geração de números pseudo-aleatório.\n",
    "\n",
    "**OBS** Existem duas formas de se utilizar um módulo ou função deste"
   ]
  },
  {
   "cell_type": "code",
   "execution_count": 1,
   "metadata": {},
   "outputs": [],
   "source": [
    "#importando todas as funções/atributos/classe/propriedades dentro do módulo\n",
    "import random"
   ]
  },
  {
   "cell_type": "markdown",
   "metadata": {},
   "source": [
    "### random()\n",
    "Gera um número pseudo-aleatório entre 0 e 1"
   ]
  },
  {
   "cell_type": "code",
   "execution_count": 3,
   "metadata": {},
   "outputs": [
    {
     "name": "stdout",
     "output_type": "stream",
     "text": [
      "0.6343736685087954\n"
     ]
    }
   ],
   "source": [
    "import random\n",
    "\n",
    "print(random.random())"
   ]
  },
  {
   "cell_type": "code",
   "execution_count": 4,
   "metadata": {},
   "outputs": [
    {
     "name": "stdout",
     "output_type": "stream",
     "text": [
      "0.06031211629727118\n",
      "0.13085550195917983\n",
      "0.699045899193696\n",
      "0.3313715529664133\n",
      "0.7375313848771387\n",
      "0.8832854744170274\n",
      "0.1637667887096621\n",
      "0.1612584869928213\n",
      "0.8964136028495305\n",
      "0.958745936761984\n"
     ]
    }
   ],
   "source": [
    "from random import random\n",
    "\n",
    "for i in range(10):\n",
    "    print(random())"
   ]
  },
  {
   "cell_type": "markdown",
   "metadata": {},
   "source": [
    "### uniform()\n",
    "\n",
    "Gerar um número pseudo-aleatório entre os valores estabelecidos"
   ]
  },
  {
   "cell_type": "code",
   "execution_count": 8,
   "metadata": {},
   "outputs": [
    {
     "name": "stdout",
     "output_type": "stream",
     "text": [
      "4.965908689928894\n",
      "4.966184481931865\n",
      "3.1303388587880776\n",
      "5.922373192071755\n",
      "3.8233114791804277\n",
      "5.879631483609856\n",
      "3.8944040877936925\n",
      "3.325102365661238\n",
      "3.112684563283947\n",
      "5.88130452381788\n",
      "O tempo de execução foi de 0.001940011978149414\n"
     ]
    }
   ],
   "source": [
    "import time\n",
    "from random import uniform\n",
    "\n",
    "t_inicio = time.time()\n",
    "\n",
    "for i in range(10):\n",
    "    print(uniform(3, 7))\n",
    "    \n",
    "t_fim = time.time()\n",
    "\n",
    "print(f'O tempo de execução foi de {t_fim - t_inicio}')"
   ]
  },
  {
   "cell_type": "markdown",
   "metadata": {},
   "source": [
    "### randint()\n",
    "\n",
    "Gera valores pseudo-aleatórios entre os valores estabelecidos"
   ]
  },
  {
   "cell_type": "code",
   "execution_count": 11,
   "metadata": {},
   "outputs": [
    {
     "name": "stdout",
     "output_type": "stream",
     "text": [
      "26, 42, 8, 29, 9, 23, "
     ]
    }
   ],
   "source": [
    "# Gerador de apostas para a mega-sena\n",
    "\n",
    "from random import randint\n",
    "\n",
    "for i in range(6):\n",
    "    print(randint(1,61), end=', ')"
   ]
  },
  {
   "cell_type": "markdown",
   "metadata": {},
   "source": [
    "### choice()\n",
    "\n",
    "Mostra um valor aleatório entre um iterável"
   ]
  },
  {
   "cell_type": "code",
   "execution_count": 20,
   "metadata": {},
   "outputs": [
    {
     "name": "stdout",
     "output_type": "stream",
     "text": [
      "pedra\n",
      "Geek\n"
     ]
    }
   ],
   "source": [
    "from random import choice\n",
    "\n",
    "jogadas = ['pedra', 'papel', 'tesoura']\n",
    "\n",
    "print(choice(jogadas))\n",
    "\n",
    "print(choice('Geek University'.split(' ')))"
   ]
  },
  {
   "cell_type": "markdown",
   "metadata": {},
   "source": [
    "### shuffle()\n",
    "\n",
    "Tem a função de embaralhar dados"
   ]
  },
  {
   "cell_type": "code",
   "execution_count": 29,
   "metadata": {},
   "outputs": [
    {
     "name": "stdout",
     "output_type": "stream",
     "text": [
      "['3', '4', '7', 'K', 'Q', '2', 'A', '5', 'J', '6']\n"
     ]
    }
   ],
   "source": [
    "from random import shuffle\n",
    "\n",
    "cartas = ['K', 'Q', 'J', 'A', '2', '3', '4', '5', '6', '7']\n",
    "\n",
    "shuffle(cartas)\n",
    "\n",
    "print(cartas)"
   ]
  },
  {
   "cell_type": "code",
   "execution_count": null,
   "metadata": {},
   "outputs": [],
   "source": []
  }
 ],
 "metadata": {
  "kernelspec": {
   "display_name": "Python 3",
   "language": "python",
   "name": "python3"
  },
  "language_info": {
   "codemirror_mode": {
    "name": "ipython",
    "version": 3
   },
   "file_extension": ".py",
   "mimetype": "text/x-python",
   "name": "python",
   "nbconvert_exporter": "python",
   "pygments_lexer": "ipython3",
   "version": "3.7.4"
  }
 },
 "nbformat": 4,
 "nbformat_minor": 4
}
