{
 "cells": [
  {
   "cell_type": "markdown",
   "metadata": {},
   "source": [
    "# ZIP\n",
    "\n",
    "zip() - Cria um iterável (Zip Object) que agrega elemento de cada um dos iteráveis passados como entrada em pares.\n",
    "\n",
    "Exemplos:"
   ]
  },
  {
   "cell_type": "code",
   "execution_count": 8,
   "metadata": {},
   "outputs": [
    {
     "name": "stdout",
     "output_type": "stream",
     "text": [
      "<zip object at 0x0076C558>\n",
      "<class 'zip'>\n",
      "[(1, 4, 'a'), (2, 5, 'b'), (3, 6, 'c')]\n",
      "((1, 4, 'a'), (2, 5, 'b'), (3, 6, 'c'))\n",
      "{(2, 5, 'b'), (1, 4, 'a'), (3, 6, 'c')}\n",
      "{1: 4, 2: 5, 3: 6}\n"
     ]
    }
   ],
   "source": [
    "lista1 = [1, 2, 3]\n",
    "lista2 = [4, 5, 6]\n",
    "\n",
    "zip1 = zip(lista1, lista2, 'abc')\n",
    "\n",
    "print(zip1)\n",
    "print(type(zip1))\n",
    "\n",
    "print(list(zip1)) #list\n",
    "\n",
    "zip1 = zip(lista1, lista2, 'abc')\n",
    "print(tuple(zip1)) #tuple\n",
    "\n",
    "zip1 = zip(lista1, lista2, 'abc')\n",
    "print(set(zip1)) #conjunto\n",
    "\n",
    "zip1 = zip(lista1, lista2)\n",
    "print(dict(zip1)) #dicionario"
   ]
  },
  {
   "cell_type": "markdown",
   "metadata": {},
   "source": [
    "O zip utiliza como parâmetro o menor tamanho em iterável. Isso significa que se estiver trabalhando com iteráveis de tamanhos diferentes, irá parar quando os elementos do menor iteravel acabar.\n",
    "\n",
    "Exemplo:"
   ]
  },
  {
   "cell_type": "code",
   "execution_count": 12,
   "metadata": {},
   "outputs": [
    {
     "name": "stdout",
     "output_type": "stream",
     "text": [
      "[(1, 4, 7), (2, 5, 8), (3, 6, 9)]\n",
      "[(7, 4, 1), (8, 5, 2), (9, 6, 3)]\n"
     ]
    }
   ],
   "source": [
    "lista1 = [1, 2, 3]\n",
    "lista2 = [4, 5, 6]\n",
    "lista3 = [7, 8, 9, 10, 11]\n",
    "\n",
    "zip1 = zip(lista1, lista2, lista3)\n",
    "\n",
    "print(list(zip1))\n",
    "\n",
    "zip1 = zip(lista3, lista2, lista1)\n",
    "\n",
    "print(list(zip1))"
   ]
  },
  {
   "cell_type": "markdown",
   "metadata": {},
   "source": [
    "Podemos utilizar diferentes iteráveis com ZIP()"
   ]
  },
  {
   "cell_type": "code",
   "execution_count": 14,
   "metadata": {},
   "outputs": [
    {
     "name": "stdout",
     "output_type": "stream",
     "text": [
      "[(1, 6, 11), (2, 7, 12), (3, 8, 13), (4, 9, 14), (5, 10, 15)]\n"
     ]
    }
   ],
   "source": [
    "tupla = 1, 2, 3, 4, 5\n",
    "lista = [6, 7, 8, 9, 10]\n",
    "dici = {'a': 11, 'b': 12, 'c': 13,'d': 14, 'e': 15}\n",
    "\n",
    "zt = zip(tupla, lista, dici.values())\n",
    "\n",
    "print(list(zt))"
   ]
  },
  {
   "cell_type": "code",
   "execution_count": 16,
   "metadata": {},
   "outputs": [
    {
     "name": "stdout",
     "output_type": "stream",
     "text": [
      "[(0, 1, 2, 3, 4), (1, 2, 3, 4, 5)]\n"
     ]
    }
   ],
   "source": [
    "dados = [(0, 1), (1, 2), (2, 3), (3, 4), (4, 5)]\n",
    "\n",
    "print(list(zip(*dados)))"
   ]
  },
  {
   "cell_type": "code",
   "execution_count": 21,
   "metadata": {},
   "outputs": [
    {
     "name": "stdout",
     "output_type": "stream",
     "text": [
      "{'Maria': 98, 'Pedro': 91, 'Carla': 78}\n",
      "{'Maria': 98, 'Pedro': 91, 'Carla': 78}\n"
     ]
    }
   ],
   "source": [
    "prova1 = [80, 91, 78]\n",
    "prova2 = [98, 89, 53]\n",
    "alunos = ['Maria', 'Pedro', 'Carla']\n",
    "\n",
    "final = {dado[0]: max(dado[1], dado[2]) for dado in zip(alunos, prova1, prova2)}\n",
    "\n",
    "print(final)\n",
    "\n",
    "final = zip(alunos, map(lambda nota: max(nota), zip(prova1, prova2)))\n",
    "\n",
    "print(dict(final))"
   ]
  }
 ],
 "metadata": {
  "kernelspec": {
   "display_name": "Python 3",
   "language": "python",
   "name": "python3"
  },
  "language_info": {
   "codemirror_mode": {
    "name": "ipython",
    "version": 3
   },
   "file_extension": ".py",
   "mimetype": "text/x-python",
   "name": "python",
   "nbconvert_exporter": "python",
   "pygments_lexer": "ipython3",
   "version": "3.7.4"
  }
 },
 "nbformat": 4,
 "nbformat_minor": 4
}
