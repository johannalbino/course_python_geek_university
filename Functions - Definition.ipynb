{
 "cells": [
  {
   "cell_type": "markdown",
   "metadata": {},
   "source": [
    "# Definindo funções\n",
    "\n",
    "* Funções são pequenas partes do código que realizam tarefas específicas;\n",
    "* Pode ou não receber entradas de dados e retornar uma saída de dados;\n",
    "* Muito uteis para executar procedimentos similares por repetidas vezes;\n",
    "\n",
    "*OBS*: Se você escrever uma função que realiza várias tarefas dentro dela é bom fazer uma verificação para que a função seja simplificada.\n",
    "\n",
    "Exemplo 1:"
   ]
  },
  {
   "cell_type": "code",
   "execution_count": 2,
   "metadata": {},
   "outputs": [
    {
     "name": "stdout",
     "output_type": "stream",
     "text": [
      "['verde', 'amarelo', 'azul', 'branco']\n",
      "Programação em Python: Essencial\n",
      "['verde', 'amarelo', 'azul', 'branco', 'roxo']\n"
     ]
    }
   ],
   "source": [
    "cores = ['verde', 'amarelo', 'azul', 'branco']\n",
    "\n",
    "#Utilizando a função print() integrada (Bult-in) do Python\n",
    "\n",
    "print(cores)\n",
    "\n",
    "curso = 'Programação em Python: Essencial'\n",
    "\n",
    "print(curso)\n",
    "\n",
    "#Outra função Bult-in append()\n",
    "\n",
    "cores.append('roxo')\n",
    "\n",
    "print(cores)"
   ]
  },
  {
   "cell_type": "markdown",
   "metadata": {},
   "source": [
    "# DRY - Don't Repeat Yourself\n",
    "* Não repita seu código/Não repita você mesmo\n",
    "\n",
    "Em Python, a forma geral de definir uma função é:\n",
    "\n",
    "def nome_da_funcao(parametros_de_entrada):\n",
    "    bloco_da_funcao\n",
    "\n",
    "Onde:\n",
    "* nome_da_funcao: **SEMPRE** com letras minísculas, e se for nome composto separado por underline _ (Snake Case);\n",
    "* parametros_entrada: Opcionais, onde tendo mais de um deve ser separado por vírgula;\n",
    "* bloco_da_funcao: Também chamado de corpo da função ou implementação, é onde o processamento da função acontece, podendo ter um retorno ou não.\n",
    "\n",
    "**OBS**: Veja que para definir uma função, utilizamos a palavra 'def' informando ao Python que estamos definindo uma função. Também abrimos o bloco de código com o já conhecido dois pontos: que é utilizado em Python para definir os blocos\n",
    "\n",
    "Definindo a primeira função:"
   ]
  },
  {
   "cell_type": "code",
   "execution_count": 6,
   "metadata": {},
   "outputs": [],
   "source": [
    "def diz_oi():\n",
    "    print('oi')"
   ]
  },
  {
   "cell_type": "markdown",
   "metadata": {},
   "source": [
    "**OBS**:\n",
    "* Veja que, dentro das nossas funções podemos utilizar outras funções;\n",
    "* Veja que nossa função só executa 1 tarefa, ou seja, a única coisa que ela faz é dizer oi;\n",
    "* Veja que esta função não recebe nenhum parâmetro de entrada;\n",
    "* Veja que esta função não retorna nada."
   ]
  },
  {
   "cell_type": "code",
   "execution_count": 9,
   "metadata": {},
   "outputs": [
    {
     "name": "stdout",
     "output_type": "stream",
     "text": [
      "oi\n"
     ]
    }
   ],
   "source": [
    "diz_oi()\n",
    "\n",
    "#Para executar uma função é sempre necessário colocar os parentêses, sem informar os parentêses não vai executar"
   ]
  },
  {
   "cell_type": "markdown",
   "metadata": {},
   "source": [
    "Exemplo 2:"
   ]
  },
  {
   "cell_type": "code",
   "execution_count": 16,
   "metadata": {},
   "outputs": [
    {
     "name": "stdout",
     "output_type": "stream",
     "text": [
      "Parábens para você\n",
      "Nesta data querida\n",
      "Muitas felicidades\n",
      "Muitos anos de vida\n",
      "Viva o aniversariante!\n",
      "Parábens para você\n",
      "Nesta data querida\n",
      "Muitas felicidades\n",
      "Muitos anos de vida\n",
      "Viva o aniversariante!\n"
     ]
    }
   ],
   "source": [
    "def cantar_parabens():\n",
    "    print('Parábens para você')\n",
    "    print('Nesta data querida')\n",
    "    print('Muitas felicidades')\n",
    "    print('Muitos anos de vida')\n",
    "    print('Viva o aniversariante!')\n",
    "    \n",
    "cantar_parabens()\n",
    "\n",
    "#for i in range(5):\n",
    "#    cantar_parabens()\n",
    "\n",
    "#não recomendado\n",
    "cantar = cantar_parabens\n",
    "\n",
    "cantar()"
   ]
  },
  {
   "cell_type": "code",
   "execution_count": null,
   "metadata": {},
   "outputs": [],
   "source": []
  }
 ],
 "metadata": {
  "kernelspec": {
   "display_name": "Python 3",
   "language": "python",
   "name": "python3"
  },
  "language_info": {
   "codemirror_mode": {
    "name": "ipython",
    "version": 3
   },
   "file_extension": ".py",
   "mimetype": "text/x-python",
   "name": "python",
   "nbconvert_exporter": "python",
   "pygments_lexer": "ipython3",
   "version": "3.7.4"
  }
 },
 "nbformat": 4,
 "nbformat_minor": 2
}
