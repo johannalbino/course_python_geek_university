{
 "cells": [
  {
   "cell_type": "markdown",
   "metadata": {},
   "source": [
    "# Try / Except / Else / Finally\n",
    "\n",
    "Dica de quando e onde tratar código:\n",
    "* Toda entrada do usuário deve ser tratada"
   ]
  },
  {
   "cell_type": "code",
   "execution_count": 2,
   "metadata": {},
   "outputs": [
    {
     "name": "stdin",
     "output_type": "stream",
     "text": [
      "Informe um número: as\n"
     ]
    },
    {
     "name": "stdout",
     "output_type": "stream",
     "text": [
      "Valor incorreto\n",
      "Você digitou o número 0\n"
     ]
    }
   ],
   "source": [
    "num = 0\n",
    "try:\n",
    "    num = int(input('Informe um número:'))\n",
    "except ValueError:\n",
    "    print('Valor incorreto')\n",
    "    \n",
    "print(f'Você digitou o número {num}')"
   ]
  },
  {
   "cell_type": "markdown",
   "metadata": {},
   "source": [
    "### Else\n",
    "\n",
    "Só é executado se não ocorrer erro (except)"
   ]
  },
  {
   "cell_type": "code",
   "execution_count": 4,
   "metadata": {},
   "outputs": [
    {
     "name": "stdin",
     "output_type": "stream",
     "text": [
      "Informe um número: 45\n"
     ]
    },
    {
     "name": "stdout",
     "output_type": "stream",
     "text": [
      "Você digitou o número 45\n"
     ]
    }
   ],
   "source": [
    "try:\n",
    "    num = int(input('Informe um número:'))\n",
    "except ValueError:\n",
    "    print('Valor incorreto')\n",
    "else:\n",
    "    print(f'Você digitou o número {num}')"
   ]
  },
  {
   "cell_type": "markdown",
   "metadata": {},
   "source": [
    "### Finally\n",
    "\n",
    "Sempre vai ser executado, independente de ter erro ou não."
   ]
  },
  {
   "cell_type": "code",
   "execution_count": 5,
   "metadata": {},
   "outputs": [
    {
     "name": "stdin",
     "output_type": "stream",
     "text": [
      "Informe um número: 45\n"
     ]
    },
    {
     "name": "stdout",
     "output_type": "stream",
     "text": [
      "Você digitou o número 45\n",
      "Executando o finally\n"
     ]
    }
   ],
   "source": [
    "try:\n",
    "    num = int(input('Informe um número:'))\n",
    "except ValueError:\n",
    "    print('Valor incorreto')\n",
    "else:\n",
    "    print(f'Você digitou o número {num}')\n",
    "finally:\n",
    "    print('Executando o finally')"
   ]
  },
  {
   "cell_type": "markdown",
   "metadata": {},
   "source": [
    "O Finally, geralmente, é utilizado para fechar ou desalocar recursos\n",
    "\n",
    "Exemplo mais complexo:"
   ]
  },
  {
   "cell_type": "code",
   "execution_count": 9,
   "metadata": {},
   "outputs": [
    {
     "name": "stdin",
     "output_type": "stream",
     "text": [
      "Informe o primeiro número:  5\n",
      "Informe o segundo número:  1\n"
     ]
    },
    {
     "name": "stdout",
     "output_type": "stream",
     "text": [
      "5.0\n"
     ]
    }
   ],
   "source": [
    "def dividir(a, b):\n",
    "    return a/b\n",
    "try:\n",
    "    n1 = int(input('Informe o primeiro número: '))\n",
    "    n2 = int(input('Informe o segundo número: '))\n",
    "except:\n",
    "    print('Número inválido.')\n",
    "else:\n",
    "    print(dividir(n1, n2))"
   ]
  },
  {
   "cell_type": "code",
   "execution_count": 12,
   "metadata": {},
   "outputs": [
    {
     "name": "stdin",
     "output_type": "stream",
     "text": [
      "Informe o primeiro número:  1\n",
      "Informe o segundo número:  5\n"
     ]
    },
    {
     "name": "stdout",
     "output_type": "stream",
     "text": [
      "0.2\n"
     ]
    }
   ],
   "source": [
    "def dividir(a, b):\n",
    "    return a/b\n",
    "try:\n",
    "    n1 = int(input('Informe o primeiro número: '))\n",
    "except:\n",
    "    print('Número inválido.')\n",
    "else:\n",
    "    try:\n",
    "        n2 = int(input('Informe o segundo número: '))\n",
    "    except:\n",
    "        print('Número incorreto.')\n",
    "    else:\n",
    "        print(dividir(n1, n2))"
   ]
  },
  {
   "cell_type": "code",
   "execution_count": 18,
   "metadata": {},
   "outputs": [
    {
     "name": "stdin",
     "output_type": "stream",
     "text": [
      "Informe o primeiro número:  5\n",
      "Informe o segundo número:  1\n"
     ]
    },
    {
     "name": "stdout",
     "output_type": "stream",
     "text": [
      "5.0\n"
     ]
    }
   ],
   "source": [
    "def dividir(a, b):\n",
    "    try:\n",
    "        return int(a)/int(b)\n",
    "    except ValueError:\n",
    "        print('Valor incorreto.')\n",
    "    except ZeroDivisionError:\n",
    "        print('Nenhum valor é divisivel por 0.')\n",
    "n1 = input('Informe o primeiro número: ')\n",
    "n2 = input('Informe o segundo número: ')\n",
    "print(dividir(n1, n2))"
   ]
  },
  {
   "cell_type": "code",
   "execution_count": 20,
   "metadata": {},
   "outputs": [
    {
     "name": "stdin",
     "output_type": "stream",
     "text": [
      "Informe o primeiro número:  1\n",
      "Informe o segundo número:  0\n"
     ]
    },
    {
     "name": "stdout",
     "output_type": "stream",
     "text": [
      "Valor incorreto. Error: division by zero\n",
      "None\n"
     ]
    }
   ],
   "source": [
    "def dividir(a, b):\n",
    "    try:\n",
    "        return int(a)/int(b)\n",
    "    except (ValueError, ZeroDivisionError) as er:\n",
    "        print(f'Valor incorreto. Error: {er}')\n",
    "n1 = input('Informe o primeiro número: ')\n",
    "n2 = input('Informe o segundo número: ')\n",
    "print(dividir(n1, n2))"
   ]
  }
 ],
 "metadata": {
  "kernelspec": {
   "display_name": "Python 3",
   "language": "python",
   "name": "python3"
  },
  "language_info": {
   "codemirror_mode": {
    "name": "ipython",
    "version": 3
   },
   "file_extension": ".py",
   "mimetype": "text/x-python",
   "name": "python",
   "nbconvert_exporter": "python",
   "pygments_lexer": "ipython3",
   "version": "3.7.4"
  }
 },
 "nbformat": 4,
 "nbformat_minor": 4
}
