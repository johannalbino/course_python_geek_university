{
 "cells": [
  {
   "cell_type": "markdown",
   "metadata": {},
   "source": [
    "# len() / abs() / sum() / round()\n",
    "\n",
    "## Len\n",
    "\n",
    "* len() - Retorna o tamanho (ou seja, o número de itens) de um iterável."
   ]
  },
  {
   "cell_type": "code",
   "execution_count": 1,
   "metadata": {},
   "outputs": [
    {
     "name": "stdout",
     "output_type": "stream",
     "text": [
      "15\n",
      "5\n",
      "5\n",
      "5\n",
      "5\n",
      "10\n"
     ]
    }
   ],
   "source": [
    "print(len('Geek University'))\n",
    "print(len([1, 2, 3, 4, 5]))\n",
    "print(len((1, 2, 3, 4, 5)))\n",
    "print(len({1, 2, 3, 4, 5}))\n",
    "print(len({'a': 1, 'b': 2, 'c': 3, 'd': 4, 'e': 5}))\n",
    "print(len(range(0, 10)))"
   ]
  },
  {
   "cell_type": "code",
   "execution_count": 3,
   "metadata": {},
   "outputs": [
    {
     "name": "stdout",
     "output_type": "stream",
     "text": [
      "15\n"
     ]
    }
   ],
   "source": [
    "print('Geek University'.__len__()) #Fazendo com Dunder LEN"
   ]
  },
  {
   "cell_type": "markdown",
   "metadata": {},
   "source": [
    "## ABS\n",
    "\n",
    "* abs() - Retorna o valor absoluto de um número inteiro ou real, de forma básica seria o seu valor real sem o sinal."
   ]
  },
  {
   "cell_type": "code",
   "execution_count": 6,
   "metadata": {},
   "outputs": [
    {
     "name": "stdout",
     "output_type": "stream",
     "text": [
      "5\n",
      "5\n",
      "3.14\n",
      "3.14\n"
     ]
    }
   ],
   "source": [
    "print(abs(-5))\n",
    "print(abs(5))\n",
    "print(abs(3.14))\n",
    "print(abs(-3.14))"
   ]
  },
  {
   "cell_type": "markdown",
   "metadata": {},
   "source": [
    "## SUM\n",
    "\n",
    "* sum() - Recebe como parâmetro um iterável, podendo receber um valor inicial e retorna a soma total dos elementos, incluindo o valor inicial.\n",
    "\n",
    "**OBS**: O valor inicial default é 0"
   ]
  },
  {
   "cell_type": "code",
   "execution_count": 10,
   "metadata": {},
   "outputs": [
    {
     "name": "stdout",
     "output_type": "stream",
     "text": [
      "15\n",
      "20\n",
      "8.823\n",
      "15\n",
      "15\n",
      "15\n"
     ]
    }
   ],
   "source": [
    "print(sum([1, 2, 3, 4, 5]))\n",
    "print(sum([1, 2, 3, 4, 5], 5)) #passando o iterável que quero somar e depois o valor inicial, ou seja, 5 + lista\n",
    "print(sum([3.145, 5.678]))\n",
    "print(sum((1, 2, 3, 4, 5)))\n",
    "print(sum({1, 2, 3, 4, 5}))\n",
    "print(sum({'a': 1, 'b': 2, 'c': 3, 'd': 4, 'e': 5}.values()))"
   ]
  },
  {
   "cell_type": "markdown",
   "metadata": {},
   "source": [
    "## Round\n",
    "\n",
    "* round() - Retorna um número arrendodado para n digitos de precisão após a casa decimal, se a precisão não for informada retorna o inteiro mais próximo da entrada"
   ]
  },
  {
   "cell_type": "code",
   "execution_count": 15,
   "metadata": {},
   "outputs": [
    {
     "name": "stdout",
     "output_type": "stream",
     "text": [
      "10\n",
      "10\n",
      "11\n",
      "1.21\n",
      "1.22\n"
     ]
    }
   ],
   "source": [
    "print(round(10.2))\n",
    "print(round(10.5))\n",
    "print(round(10.6))\n",
    "print(round(1.2121212121, 2))\n",
    "print(round(1.21999999, 2))"
   ]
  },
  {
   "cell_type": "code",
   "execution_count": null,
   "metadata": {},
   "outputs": [],
   "source": []
  }
 ],
 "metadata": {
  "kernelspec": {
   "display_name": "Python 3",
   "language": "python",
   "name": "python3"
  },
  "language_info": {
   "codemirror_mode": {
    "name": "ipython",
    "version": 3
   },
   "file_extension": ".py",
   "mimetype": "text/x-python",
   "name": "python",
   "nbconvert_exporter": "python",
   "pygments_lexer": "ipython3",
   "version": "3.7.4"
  }
 },
 "nbformat": 4,
 "nbformat_minor": 4
}
