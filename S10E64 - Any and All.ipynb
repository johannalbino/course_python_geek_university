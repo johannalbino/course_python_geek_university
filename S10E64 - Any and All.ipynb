{
 "cells": [
  {
   "cell_type": "markdown",
   "metadata": {},
   "source": [
    "# Any() and All()"
   ]
  },
  {
   "cell_type": "markdown",
   "metadata": {},
   "source": [
    "* all()\n",
    "    * É uma função booleana, retorna True se todos os elementos do iterável são verdadeiros ou ainda se o iterável está vazio.\n",
    "    \n",
    "Exemplo:"
   ]
  },
  {
   "cell_type": "code",
   "execution_count": 15,
   "metadata": {},
   "outputs": [
    {
     "name": "stdout",
     "output_type": "stream",
     "text": [
      "False\n",
      "True\n",
      "True\n",
      "True\n",
      "True\n",
      "True\n"
     ]
    }
   ],
   "source": [
    "print(all([0, 1, 2, 3, 4])) #Todos os números são verdadeiros ? True\n",
    "\n",
    "print(all([1, 2, 3, 4])) #Todos os números são verdadeiros ? True\n",
    "\n",
    "print(all([])) #Todos os números são verdadeiros ? True\n",
    "\n",
    "nomes = ['Carlos', 'Camila', 'Carla', 'Cassiono', 'Cristina']\n",
    "\n",
    "print(all([nome[0] == 'C' for nome in nomes]))\n",
    "\n",
    "# OBS: Um iterável vazio convertido em boolean é False, mas o all() entende como True\n",
    "print(all([letra for letra in 'eai' if letra in 'aeiou']))\n",
    "\n",
    "print(all([num for num in [4, 2, 10, 6, 8] if num % 2 == 0]))"
   ]
  },
  {
   "cell_type": "markdown",
   "metadata": {},
   "source": [
    "* any()\n",
    "    * Retorna True se qualquer elemento do iterável for verdadeiro (True). Se o iterável estiver vaizo, returna False"
   ]
  },
  {
   "cell_type": "code",
   "execution_count": 21,
   "metadata": {},
   "outputs": [
    {
     "name": "stdout",
     "output_type": "stream",
     "text": [
      "True\n",
      "False\n",
      "True\n",
      "True\n",
      "True\n"
     ]
    }
   ],
   "source": [
    "print(any([0, 1, 2, 3, 4])) #True\n",
    "\n",
    "print(any([0, False, {}, (), []])) #False\n",
    "\n",
    "print(any([0, False, {}, (), [], 1])) #True\n",
    "\n",
    "nomes = ['Carlos', 'Camila', 'Carla', 'Cassiono', 'Cristina', 'Vanessa']\n",
    "\n",
    "print(any([nome[0] == 'C' for nome in nomes]))\n",
    "\n",
    "print(any([num for num in [4, 2, 10, 6, 8] if num % 2 == 0]))"
   ]
  }
 ],
 "metadata": {
  "kernelspec": {
   "display_name": "Python 3",
   "language": "python",
   "name": "python3"
  },
  "language_info": {
   "codemirror_mode": {
    "name": "ipython",
    "version": 3
   },
   "file_extension": ".py",
   "mimetype": "text/x-python",
   "name": "python",
   "nbconvert_exporter": "python",
   "pygments_lexer": "ipython3",
   "version": "3.7.4"
  }
 },
 "nbformat": 4,
 "nbformat_minor": 4
}
