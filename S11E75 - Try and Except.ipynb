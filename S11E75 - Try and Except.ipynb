{
 "cells": [
  {
   "cell_type": "markdown",
   "metadata": {},
   "source": [
    "# Try and Except\n",
    "\n",
    "Utilizamos o bloco try/except para tratar erros que podem ocorrer no nosso código prevenindo assim que o programa pare de funcionar e o usuário receba mensagens de erros inesperadas.\n",
    "\n",
    "try:\n",
    "execução problematica\n",
    "except:\n",
    "o que deve ser feito caso der erro"
   ]
  },
  {
   "cell_type": "code",
   "execution_count": 1,
   "metadata": {},
   "outputs": [
    {
     "name": "stdout",
     "output_type": "stream",
     "text": [
      "Deu problema.\n"
     ]
    }
   ],
   "source": [
    "try:\n",
    "    geek()\n",
    "except:\n",
    "    print('Deu problema.')"
   ]
  },
  {
   "cell_type": "code",
   "execution_count": 2,
   "metadata": {},
   "outputs": [
    {
     "name": "stdout",
     "output_type": "stream",
     "text": [
      "Deu erro.\n"
     ]
    }
   ],
   "source": [
    "try:\n",
    "    len(5)\n",
    "except:\n",
    "    print('Deu erro.')"
   ]
  },
  {
   "cell_type": "markdown",
   "metadata": {},
   "source": [
    "**OBS**: Tratar erro de forma genérica não é a melhor forma de tratamento de erros. O ideal é SEMPRE tratar de forma especifica."
   ]
  },
  {
   "cell_type": "code",
   "execution_count": 5,
   "metadata": {},
   "outputs": [
    {
     "name": "stdout",
     "output_type": "stream",
     "text": [
      "Você está utilizando uma função inexistente. Error: name 'geek' is not defined\n"
     ]
    }
   ],
   "source": [
    "try:\n",
    "    geek()\n",
    "except NameError as err:\n",
    "    print(f'Você está utilizando uma função inexistente. Error: {err}')"
   ]
  },
  {
   "cell_type": "code",
   "execution_count": 7,
   "metadata": {},
   "outputs": [
    {
     "name": "stdout",
     "output_type": "stream",
     "text": [
      "Deu um erro diferente\n"
     ]
    }
   ],
   "source": [
    "# Podemos efetuar diversos tratamentos de erros de uma vez.\n",
    "\n",
    "try:\n",
    "    #len(5) #TypeErro\n",
    "    #geek() #NameError\n",
    "    print('Geek'[9])\n",
    "except NameError as erra:\n",
    "    print(f'Deu NameError: {erra}')\n",
    "except TypeError as errb:\n",
    "    print(f'Deu TypeError: {errb}')\n",
    "except:\n",
    "    print('Deu um erro diferente')"
   ]
  },
  {
   "cell_type": "code",
   "execution_count": 11,
   "metadata": {},
   "outputs": [
    {
     "name": "stdout",
     "output_type": "stream",
     "text": [
      "None\n"
     ]
    }
   ],
   "source": [
    "def pega_valor(dicionario, chave):\n",
    "    try:\n",
    "        return dicionario[chave]\n",
    "    except KeyError:\n",
    "        return None\n",
    "    except TyperError:\n",
    "        return None\n",
    "\n",
    "dic = {'nome': 'Geek'}\n",
    "\n",
    "print(pega_valor(dic, 'game'))"
   ]
  }
 ],
 "metadata": {
  "kernelspec": {
   "display_name": "Python 3",
   "language": "python",
   "name": "python3"
  },
  "language_info": {
   "codemirror_mode": {
    "name": "ipython",
    "version": 3
   },
   "file_extension": ".py",
   "mimetype": "text/x-python",
   "name": "python",
   "nbconvert_exporter": "python",
   "pygments_lexer": "ipython3",
   "version": "3.7.4"
  }
 },
 "nbformat": 4,
 "nbformat_minor": 4
}
