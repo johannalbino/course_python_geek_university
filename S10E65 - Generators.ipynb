{
 "cells": [
  {
   "cell_type": "markdown",
   "metadata": {},
   "source": [
    "# Generators\n",
    "\n",
    "* É uma tuple comprehension\n",
    "\n",
    "A diferença do generators que ele não carrega na memórias as informações até ser solicitado pelo usuários as informações, diferente das outras comprehension\n",
    "\n",
    "Exemplo:"
   ]
  },
  {
   "cell_type": "code",
   "execution_count": 2,
   "metadata": {},
   "outputs": [
    {
     "name": "stdout",
     "output_type": "stream",
     "text": [
      "(True, True, True, True, False)\n",
      "('Carlos', 'Camila', 'Cassiano', 'Cristina', 'Vanessa')\n"
     ]
    }
   ],
   "source": [
    "nomes = ['Carlos', 'Camila', 'Cassiano', 'Cristina', 'Vanessa']\n",
    "\n",
    "print(tuple(nome[0] == 'C' for nome in nomes)) #Com condição\n",
    "print(tuple(nome for nome in nomes)) #Sem condição"
   ]
  },
  {
   "cell_type": "markdown",
   "metadata": {},
   "source": [
    "### getsizeof\n",
    "\n",
    "Retorna a quantidade de bytes em memória do elemento passado como parâmetro"
   ]
  },
  {
   "cell_type": "code",
   "execution_count": 3,
   "metadata": {},
   "outputs": [
    {
     "name": "stdout",
     "output_type": "stream",
     "text": [
      "29\n",
      "35\n",
      "14\n",
      "14\n",
      "18\n",
      "14\n"
     ]
    }
   ],
   "source": [
    "from sys import getsizeof\n",
    "\n",
    "print(getsizeof('Geek')) #Mostra quantos bytes a string está ocupando em memória, quanto maior a string mais espaço ocupa\n",
    "print(getsizeof('University'))\n",
    "print(getsizeof(9))\n",
    "print(getsizeof(91))\n",
    "print(getsizeof(921151365135))\n",
    "print(getsizeof(True))"
   ]
  },
  {
   "cell_type": "code",
   "execution_count": 5,
   "metadata": {},
   "outputs": [
    {
     "name": "stdout",
     "output_type": "stream",
     "text": [
      "64\n",
      "List comprehension: 4516 bytes\n",
      "Set comprehension: 16500 bytes\n",
      "Dict comprehension: 20544 bytes\n",
      "Generators: 64 bytes\n",
      "k\n"
     ]
    }
   ],
   "source": [
    "from sys import getsizeof\n",
    "\n",
    "nomes = ['Carlos', 'Camila', 'Cassiano', 'Cristina', 'Vanessa']\n",
    "\n",
    "print(getsizeof(nome[0] == 'C' for nome in nomes)) #generators\n",
    "\n",
    "list_comp = getsizeof([x * 10 for x in range(1000)]) #list comprehension\n",
    "set_comp = getsizeof({x * 10 for x in range(1000)}) #set comprehension\n",
    "dict_comp = getsizeof({x: x * 10 for x in range(1000)}) #dict comprehension\n",
    "gen_comp = getsizeof((x * 10 for x in range(1000))) #generators\n",
    "\n",
    "print(f'List comprehension: {list_comp} bytes') \n",
    "print(f'Set comprehension: {set_comp} bytes')\n",
    "print(f'Dict comprehension: {dict_comp} bytes')\n",
    "print(f'Generators: {gen_comp} bytes')\n",
    "print('k')"
   ]
  },
  {
   "cell_type": "code",
   "execution_count": 8,
   "metadata": {},
   "outputs": [
    {
     "name": "stdout",
     "output_type": "stream",
     "text": [
      "<generator object <genexpr> at 0x0609DDB0>\n",
      "<class 'generator'>\n",
      "0\n",
      "10\n",
      "20\n",
      "30\n",
      "40\n",
      "50\n",
      "60\n",
      "70\n",
      "80\n",
      "90\n"
     ]
    }
   ],
   "source": [
    "#Iterando sobre um generation\n",
    "\n",
    "gen = (x * 10 for x in range(10))\n",
    "print(gen)\n",
    "print(type(gen))\n",
    "\n",
    "for num in gen:\n",
    "    print(num)\n"
   ]
  }
 ],
 "metadata": {
  "kernelspec": {
   "display_name": "Python 3",
   "language": "python",
   "name": "python3"
  },
  "language_info": {
   "codemirror_mode": {
    "name": "ipython",
    "version": 3
   },
   "file_extension": ".py",
   "mimetype": "text/x-python",
   "name": "python",
   "nbconvert_exporter": "python",
   "pygments_lexer": "ipython3",
   "version": "3.7.4"
  }
 },
 "nbformat": 4,
 "nbformat_minor": 4
}
