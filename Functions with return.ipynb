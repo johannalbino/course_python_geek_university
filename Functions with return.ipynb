{
 "cells": [
  {
   "cell_type": "markdown",
   "metadata": {},
   "source": [
    "# Functions with return"
   ]
  },
  {
   "cell_type": "code",
   "execution_count": 4,
   "metadata": {},
   "outputs": [
    {
     "name": "stdout",
     "output_type": "stream",
     "text": [
      "3\n",
      "[1, 2]\n"
     ]
    }
   ],
   "source": [
    "numeros = [1, 2, 3]\n",
    "\n",
    "ret= numeros.pop() #pop é uma função que retorna a lista retirando o ultimo digito\n",
    "\n",
    "print(ret)\n",
    "\n",
    "print(numeros)"
   ]
  },
  {
   "cell_type": "code",
   "execution_count": 10,
   "metadata": {},
   "outputs": [
    {
     "name": "stdout",
     "output_type": "stream",
     "text": [
      "Resulta do quadrado de 7 é 49\n",
      "Resulta do quadrado de 7 é 49\n"
     ]
    }
   ],
   "source": [
    "def quadrado_de_7():\n",
    "    return 7*7\n",
    "\n",
    "    \n",
    "res = quadrado_de_7()\n",
    "\n",
    "print(f'Resulta do quadrado de 7 é {res}')\n",
    "\n",
    "print(f'Resulta do quadrado de 7 é {quadrado_de_7()}')"
   ]
  },
  {
   "cell_type": "markdown",
   "metadata": {},
   "source": [
    "**OBS**: \n",
    "* Em Python, quando uma função não retorna nenhum valor, o retorno é None.\n",
    "* Funções Python que retornam valores, devem retornar estes valores com a palavra reservada return\n",
    "* Não precisamos necessariamente criar uma variável para receber o retorno de uma função. Podemos passar a execução da função para outras funções.\n"
   ]
  },
  {
   "cell_type": "code",
   "execution_count": 12,
   "metadata": {},
   "outputs": [
    {
     "name": "stdout",
     "output_type": "stream",
     "text": [
      "Diz oi: Oi\n"
     ]
    }
   ],
   "source": [
    "def diz_oi():\n",
    "    return 'Oi'\n",
    "\n",
    "print(f'Diz oi: {diz_oi()}')"
   ]
  },
  {
   "cell_type": "markdown",
   "metadata": {},
   "source": [
    "**OBS**: Sobre a palavra reservada 'return'\n",
    "* Ela finaliza a função, ou seja, ela sai da execução da função;\n",
    "* Podemos ter em uma função mais de um return;\n",
    "* Podemos em uma função, retornar qualquer tipo de dado e até mesmo múltiplos valores;\n",
    "\n",
    "Exemplos:"
   ]
  },
  {
   "cell_type": "code",
   "execution_count": 1,
   "metadata": {},
   "outputs": [
    {
     "name": "stdout",
     "output_type": "stream",
     "text": [
      "Antes do return\n"
     ]
    },
    {
     "data": {
      "text/plain": [
       "'Oi!'"
      ]
     },
     "execution_count": 1,
     "metadata": {},
     "output_type": "execute_result"
    }
   ],
   "source": [
    "def diz_oi():\n",
    "    print('Antes do return')\n",
    "    return ('Oi!')\n",
    "    print('Depois do return') #não vai executar\n",
    "\n",
    "diz_oi()"
   ]
  },
  {
   "cell_type": "code",
   "execution_count": 4,
   "metadata": {},
   "outputs": [
    {
     "name": "stdout",
     "output_type": "stream",
     "text": [
      "b\n"
     ]
    }
   ],
   "source": [
    "def nova_funcao():\n",
    "    variavel= False\n",
    "    if variavel:\n",
    "        return 4\n",
    "    elif variavel is None:\n",
    "        return 3.2\n",
    "    return 'b'\n",
    "\n",
    "print(nova_funcao())"
   ]
  },
  {
   "cell_type": "code",
   "execution_count": 9,
   "metadata": {},
   "outputs": [
    {
     "name": "stdout",
     "output_type": "stream",
     "text": [
      "2 3 4 5\n",
      "(2, 3, 4, 5)\n",
      "<class 'tuple'>\n"
     ]
    }
   ],
   "source": [
    "def outra_funcao():\n",
    "    return 2,3,4,5\n",
    "\n",
    "n1, n2, n3, n4 = outra_funcao()\n",
    "print(n1,n2,n3,n4)\n",
    "print(outra_funcao())\n",
    "print(type(outra_funcao()))"
   ]
  },
  {
   "cell_type": "code",
   "execution_count": 28,
   "metadata": {},
   "outputs": [
    {
     "name": "stdout",
     "output_type": "stream",
     "text": [
      "Coroa\n"
     ]
    }
   ],
   "source": [
    "from random import random\n",
    "\n",
    "def joga_moeda():\n",
    "    if random() > 0.5:\n",
    "        return 'Cara'\n",
    "    return 'Coroa'\n",
    "\n",
    "print(joga_moeda())\n"
   ]
  },
  {
   "cell_type": "code",
   "execution_count": null,
   "metadata": {},
   "outputs": [],
   "source": []
  }
 ],
 "metadata": {
  "kernelspec": {
   "display_name": "Python 3",
   "language": "python",
   "name": "python3"
  },
  "language_info": {
   "codemirror_mode": {
    "name": "ipython",
    "version": 3
   },
   "file_extension": ".py",
   "mimetype": "text/x-python",
   "name": "python",
   "nbconvert_exporter": "python",
   "pygments_lexer": "ipython3",
   "version": "3.7.4"
  }
 },
 "nbformat": 4,
 "nbformat_minor": 2
}
