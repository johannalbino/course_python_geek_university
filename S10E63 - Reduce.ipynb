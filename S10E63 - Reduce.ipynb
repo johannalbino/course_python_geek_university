{
 "cells": [
  {
   "cell_type": "markdown",
   "metadata": {},
   "source": [
    "# Reduce\n",
    "\n",
    "**OBS**\n",
    "A partir do Python3+ a função Reduce() não é mais uma função integrada (built-in). Agora para utilizar o reduce é necessário importar a função para utilizar a partir da função functools\n",
    "\n",
    "Guido van Rossum (Criador do python): Utilize a função reduce() se você realmente precisa dela. Em todo caso 99% das vezes um loop for é mais legível.\n",
    "\n",
    "### Para entender o reduce()\n",
    "\n",
    "**Imagine que você tem uma coleção de dados:**\n",
    "\n",
    "dados = [a1, a2, a3, ..... , an]\n",
    "\n",
    "Você tem uma função que recebe dois parametros\n",
    "\n",
    "A função reduce() recebe dois parametros: a função e o iteravel:\n",
    "reduce(funcao, dados)\n",
    "\n",
    "def funcao(x, y):\n",
    "    return x * y\n",
    "\n",
    "A função reduce() funciona da seguinte forma:\n",
    "* res1 = f(a1, a2)   Aplica a função nos dois primeiros elementos da coleção e guarda o resultado\n",
    "* res2 = f(res1, a3)    Aplica a função passando o resulta do passo um mais o terceiro elemento e guarda o resultado\n",
    "\n",
    "Isso é repetido até o final, ou seja, em cada passo ela aplica a função passando como primeiro argumento o resultado da aplicação anterior. No final, o reduce() irá retornar o resultado final.\n",
    "\n",
    "Exemplo\n"
   ]
  },
  {
   "cell_type": "code",
   "execution_count": 5,
   "metadata": {},
   "outputs": [
    {
     "name": "stdout",
     "output_type": "stream",
     "text": [
      "3628800\n"
     ]
    }
   ],
   "source": [
    "import functools\n",
    "\n",
    "numeros = [1, 2, 3, 4, 5, 6, 7, 8, 9, 10]\n",
    "\n",
    "soma_total = functools.reduce(lambda x, y: x * y, numeros)\n",
    "\n",
    "print(soma_total)"
   ]
  },
  {
   "cell_type": "code",
   "execution_count": 6,
   "metadata": {},
   "outputs": [
    {
     "name": "stdout",
     "output_type": "stream",
     "text": [
      "25878772920\n"
     ]
    }
   ],
   "source": [
    "from functools import reduce\n",
    "\n",
    "numeros = [2, 3, 4, 5, 7, 11, 13, 17, 19, 23, 29]\n",
    "\n",
    "multi = lambda x, y: x * y\n",
    "\n",
    "res = reduce(multi, numeros)\n",
    "\n",
    "print(res)"
   ]
  }
 ],
 "metadata": {
  "kernelspec": {
   "display_name": "Python 3",
   "language": "python",
   "name": "python3"
  },
  "language_info": {
   "codemirror_mode": {
    "name": "ipython",
    "version": 3
   },
   "file_extension": ".py",
   "mimetype": "text/x-python",
   "name": "python",
   "nbconvert_exporter": "python",
   "pygments_lexer": "ipython3",
   "version": "3.7.4"
  }
 },
 "nbformat": 4,
 "nbformat_minor": 4
}
